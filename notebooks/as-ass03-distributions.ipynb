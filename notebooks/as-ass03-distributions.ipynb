{
 "cells": [
  {
   "cell_type": "markdown",
   "metadata": {},
   "source": [
    "### Let\"s create a visualisation for the groupschat of a field hockey team :)"
   ]
  },
  {
   "cell_type": "markdown",
   "metadata": {},
   "source": [
    "Import the used packages."
   ]
  },
  {
   "cell_type": "code",
   "execution_count": null,
   "metadata": {},
   "outputs": [],
   "source": [
    "from pathlib import Path\n",
    "from loguru import logger\n",
    "import pandas as pd\n",
    "import seaborn as sns\n",
    "import matplotlib.pyplot as plt\n",
    "import tomllib\n",
    "import numpy as np\n",
    "import openpyxl\n"
   ]
  },
  {
   "cell_type": "markdown",
   "metadata": {},
   "source": [
    "Use the same way as the notebook in the course folder to get the data."
   ]
  },
  {
   "cell_type": "code",
   "execution_count": null,
   "metadata": {},
   "outputs": [],
   "source": [
    "configfile = Path(\"../config.toml\").resolve()\n",
    "with configfile.open(\"rb\") as f:\n",
    "    config = tomllib.load(f)\n",
    "config"
   ]
  },
  {
   "cell_type": "code",
   "execution_count": null,
   "metadata": {},
   "outputs": [],
   "source": [
    "root = Path(\"..\").resolve()\n",
    "processed = root / Path(config[\"processed\"])\n",
    "raw = root / Path(config[\"raw\"])\n",
    "datafile = processed / config[\"wife_file\"]\n",
    "role_file = raw / config[\"role_file\"]\n"
   ]
  },
  {
   "cell_type": "code",
   "execution_count": null,
   "metadata": {},
   "outputs": [],
   "source": [
    "merged_df = pd.read_parquet(datafile)\n",
    "merged_df.dtypes\n",
    "merged_df[\"message_length\"] = merged_df[\"message\"].str.len()\n",
    "merged_df.head()"
   ]
  },
  {
   "cell_type": "code",
   "execution_count": null,
   "metadata": {},
   "outputs": [],
   "source": [
    "# Voeg een kolom toe voor de weekdag\n",
    "df= merged_df\n",
    "df['weekday'] = df['timestamp'].dt.day_name()\n",
    "\n",
    "# Groepeer op weekdag en tel het aantal berichten\n",
    "message_counts = df.groupby('weekday').size()\n",
    "\n",
    "# Sorteer de weekdagen in de juiste volgorde\n",
    "ordered_days = ['Monday', 'Tuesday', 'Wednesday', 'Thursday', 'Friday', 'Saturday', 'Sunday']\n",
    "message_counts = message_counts.reindex(ordered_days)\n",
    "\n",
    "# Maak een lijngrafiek van de verdeling van het aantal berichten per weekdag\n",
    "plt.figure(figsize=(10, 6))\n",
    "message_counts.plot(kind='line', marker='o')\n",
    "plt.title('Distribution of Number of Messages per Weekday')\n",
    "plt.xlabel('Weekday')\n",
    "plt.ylabel('Number of Messages')\n",
    "plt.grid(True)\n",
    "plt.show()"
   ]
  },
  {
   "cell_type": "code",
   "execution_count": null,
   "metadata": {},
   "outputs": [],
   "source": [
    "\n",
    "df = merged_df\n",
    "message_counts = df.groupby('weekday').size()\n",
    "message_counts = message_counts.reindex(ordered_days)\n",
    "# Voeg een kolom toe voor de weekdag\n",
    "df['weekday'] = df['timestamp'].dt.day_name()\n",
    "\n",
    "# Zet de 'weekday' kolom om naar een categorische kolom met de juiste volgorde\n",
    "weekdays_order = ['Monday', 'Tuesday', 'Wednesday', 'Thursday', 'Friday', 'Saturday', 'Sunday']\n",
    "df['weekday'] = pd.Categorical(df['weekday'], categories=weekdays_order, ordered=True)\n",
    "\n",
    "# # Telling van het aantal berichten per weekdag\n",
    "# message_counts = df.groupby('weekday').size()\n",
    "\n",
    "# Maak een figure en assen voor de boxplot en de telling\n",
    "fig, ax1 = plt.subplots(figsize=(12, 8))\n",
    "\n",
    "# Maak de boxplot visualisatie per weekdag voor de message_length van de berichten\n",
    "boxprops = dict(linestyle='-', linewidth=2)\n",
    "medianprops = dict(linestyle='-', linewidth=2)\n",
    "flierprops = dict(marker='o', color='red', markersize=5)\n",
    "\n",
    "# Maak de boxplot en zet de 'weekday' als de x-as\n",
    "df.boxplot(column='message_length', by='weekday', boxprops=boxprops, medianprops=medianprops, flierprops=flierprops, showfliers=False, ax=ax1)\n",
    "\n",
    "# Voeg de lijn toe voor het aantal berichten per weekdag\n",
    "ax2 = ax1.twinx()  # Maak een tweede y-as\n",
    "ax2.plot(message_counts[weekdays_order].values, color='black', marker='o', linestyle='-', linewidth=3, markersize=7, label='Aantal berichten')\n",
    "\n",
    "# Stel labels en titels in\n",
    "# ax2.set_ylabel('Aantal berichten', color='orange')\n",
    "# ax2.tick_params(axis='y', labelcolor='orange')\n",
    "plt.title('Boxplot of Message Length by Weekday with Number of Messages')\n",
    "plt.suptitle('')\n",
    "plt.xlabel('Weekday')\n",
    "ax1.set_ylabel('Message Length')\n",
    "ax1.grid(False)\n",
    "\n",
    "# Toon de plot\n",
    "plt.show()\n"
   ]
  },
  {
   "cell_type": "code",
   "execution_count": null,
   "metadata": {},
   "outputs": [],
   "source": [
    "# Voeg een kolom toe voor de maand en het jaar\n",
    "df['month_year'] = df['timestamp'].dt.to_period('M')\n",
    "\n",
    "# Maak een boxplot visualisatie per maand voor de message_length_average van de berichten\n",
    "plt.figure(figsize=(12, 8))\n",
    "boxprops = dict(linestyle='-', linewidth=2)\n",
    "medianprops = dict(linestyle='-', linewidth=2)\n",
    "flierprops = dict(marker='o', color='red', markersize=5)\n",
    "df.boxplot(column='message_length_average', by='month_year', boxprops=boxprops, medianprops=medianprops, flierprops=flierprops, showfliers=False)\n",
    "plt.title('Boxplot of Message Length Average by Month')\n",
    "plt.suptitle('')\n",
    "plt.xlabel('Month')\n",
    "plt.ylabel('Message Length Average')\n",
    "plt.grid(False)\n",
    "\n",
    "# Telling van het aantal berichten per maand\n",
    "message_counts = df.groupby('month_year').size()\n",
    "\n",
    "# Voeg message counts toe onder de plot\n",
    "plt.figtext(0.5, -0.05, f'Message Counts per Month:\\n{message_counts.to_string()}', ha='center')\n",
    "\n",
    "plt.show()"
   ]
  },
  {
   "cell_type": "code",
   "execution_count": null,
   "metadata": {},
   "outputs": [],
   "source": [
    "df = merged_df\n",
    "\n",
    "# Voeg een kolom toe voor de weekdag en het tijdstip\n",
    "df['weekday'] = df['timestamp'].dt.day_name()\n",
    "df['time'] = df['timestamp'].dt.hour + df['timestamp'].dt.minute / 60\n",
    "\n",
    "# Sorteer de weekdagen in de juiste volgorde\n",
    "ordered_days = ['Monday', 'Tuesday', 'Wednesday', 'Thursday', 'Friday', 'Saturday', 'Sunday']\n",
    "df['weekday'] = pd.Categorical(df['weekday'], categories=ordered_days, ordered=True)\n",
    "\n",
    "# Maak een scatter plot van de weekdag en het tijdstip\n",
    "plt.figure(figsize=(10, 6))\n",
    "plt.scatter(df['time'], df['weekday'])\n",
    "plt.title('Weekday vs Time')\n",
    "plt.xlabel('Time (hours)')\n",
    "plt.ylabel('Weekday')\n",
    "plt.grid(True)\n",
    "plt.show()"
   ]
  },
  {
   "cell_type": "code",
   "execution_count": null,
   "metadata": {},
   "outputs": [],
   "source": [
    "merged_df[\"message\"] = merged_df[\"message\"].fillna(\"\")\n",
    "kids = r\"(?i)lot|levi|lot esther|lot esther stolk|cornelisz|yannick|hoogland|amersfoort|cothen|billie|18 november|17 november|17-11.*|18-11.*|geboorte|geboortezaak|leonie|verloskundige|bevalling\"\n",
    "sports = r\"(?i)squash.*|hockey.*|hardlopen.*|hardloop|voetbal|formule 1|verstappen|voordaan|\\uD83C\\uDFD1|training|club|wedstrijd|gewonnen|verloren|oefenwedstrijd|wielrennen|poolen|fietsen|gelijkspel|0-0|1-0|2-0|1-1|verliezen|verzamelen|uitwedstrijd|thuiswedstrijd|groenekan|de bilt|nova|korfbal\"\n",
    "liefde = r\"(?i)liefde|hou van jou|love you|denk aan je|\\u2764\\uFE0F|\\uD83D\\uDE0D|\\uD83D\\uDC98|\\uD83D\\uDC9D|\\uD83D\\uDC95|\\uD83D\\uDC96|\\uD83D\\uDC97|\\uD83D\\uDC93|\\uD83D\\uDC9E|\\uD83D\\uDC9F|\\uD83D\\uDC8B|\\uD83D\\uDC91|\\uD83D\\uDC8F|\\uD83D\\uDC8C\"\n",
    "koosnaampje = r\"(?i)schat|lief|liefje|schatje|mop.*|lieverd|mooierd|knapperd|lekker ding|liefste\"\n",
    "vrienden = r\"(?i) nick|daan|mieke|sandra|yoni|suus|suzanne|coen|patrick|jeroen|emiel|sascha|hans|hidde|bob|marin\"\n",
    "family = r\"(?i) maarten|fre|frederike|pieter|reinier|luuk|erna|moeder|vader|ronald|joris|thieme|hidde|ryan|esther|zus|broer|kyano|jay|jayvano|genayro|anne\"\n",
    "animals = r\"(?i) hond|billie|billsky|uitlaten|hector|paard|kip|poes|kat|koe|bertha|muis|toe maar|brokken|honden.*|bench|mand|welkoop\"\n",
    "day_to_day = r\"(?i) eten we vanavond|supermarkt|jumbo|appie|albert heyn|lidl|ophalen|werken|werk|bij jou?|winkel\"\n",
    "questions = r\".*\\?$\"\n",
    "leisure = r\"(?i)uit eten|bioscoop|film|serie|game of thrones|breaking bad|b&b*|vakantie|weekendje weg|terrasje|drankje|bankhangen|bank hangen|spelletje|rummikub|xbox|gamen|cod|bbq|barbecue|serie|mocro maffia|first dates|winter vol liefde|scrabble\"\n",
    "huwelijk = r\"(?i)huwelijk.*|trouwen|7 juni|draaiboek|ceremonie.*|ringen|trouw.*|gastenlijst|weggeven|07-06.*|I do|Jawoord|ten huwelijk|hand vragen|ja-woord|Krista|charlotte|kasteel.*|bruids.*|jurk|pak|dj|rutger|cocktailbar\"\n",
    "werk = r\"(?i)ordina|sopra.*|steria|gemeente|gemeentehuis|gemeentewijkbij.*|burgemeester|iris|ilse|collega.*|sandra|mariska|madeloes|jan|wethouder|dashboard|rapportage|werk|werken|reporting|salaris|loon|vakantiedagen|NS|duravermeer|dura|emiel|dave|davey|jasper|annemiek|laura|dennis\"\n",
    "home = r\"(?i)verbouwen|zolder|tuin|zwembad|uitbouw|dakkapel|Beatrix|Beatrixstraat.*|Bertha|Bloemenwaard|cothen|huis kopen|woonkamer|hue|uitbouw|zolder|slaapkamer|schuifpui|deur|camera.*|unifi|deurbel|voortuin|schuur|douche|badkamer|verhuizen\"\n",
    "short = r\"(?i)^(yes|ja|no|nee|ok|oke|okee|ja ja|nee nee)$\"\n",
    "\n",
    "merged_df[\"Kinderen\"] = merged_df[\"message\"].str.contains(kids, case=False).astype(int)\n",
    "merged_df[\"Liefde\"] = merged_df[\"message\"].str.contains(liefde, case=False).astype(int)\n",
    "merged_df[\"Sport\"] = merged_df[\"message\"].str.contains(sports, case=False).astype(int)\n",
    "merged_df[\"Vrienden\"] = merged_df[\"message\"].str.contains(vrienden, case=False).astype(int)\n",
    "merged_df[\"Familie\"] = merged_df[\"message\"].str.contains(family, case=False).astype(int)\n",
    "merged_df[\"Dieren\"] = merged_df[\"message\"].str.contains(animals, case=False).astype(int)\n",
    "merged_df[\"Dagelijks\"] = merged_df[\"message\"].str.contains(day_to_day, case=False).astype(int)\n",
    "merged_df[\"Vrije tijd\"] = merged_df[\"message\"].str.contains(leisure, case=False).astype(int)\n",
    "merged_df[\"Huwelijk\"] = merged_df[\"message\"].str.contains(huwelijk, case=False).astype(int)\n",
    "merged_df[\"Werk\"] = merged_df[\"message\"].str.contains(werk, case=False).astype(int)\n",
    "merged_df[\"Huis\"] = merged_df[\"message\"].str.contains(home, case=False).astype(int)\n",
    "merged_df[\"topic_short\"] = merged_df[\"message\"].str.contains(short, case=False).astype(int)\n",
    "merged_df[\"topic_sweet\"] = merged_df[\"message\"].str.contains(koosnaampje, case=False).astype(int)\n",
    "\n",
    "new_columns_count = merged_df[['Kinderen', 'Liefde', 'Sport', 'Vrienden', 'Familie', 'Dieren', 'Dagelijks', 'Vrije tijd', 'Huwelijk', 'Werk', 'Huis']].sum()\n",
    "merged_df.head()\n",
    "print(new_columns_count)"
   ]
  },
  {
   "cell_type": "code",
   "execution_count": null,
   "metadata": {},
   "outputs": [],
   "source": [
    "sorted_columns_count = new_columns_count.sort_values(ascending=False)\n",
    "\n",
    "plt.figure(figsize=(10, 6))\n",
    "sorted_columns_count.plot(kind='bar')\n",
    "plt.title('Counts of Topics')\n",
    "plt.xlabel('Topics')\n",
    "plt.ylabel('Counts')\n",
    "plt.xticks(rotation=45)\n",
    "plt.show()"
   ]
  },
  {
   "cell_type": "code",
   "execution_count": null,
   "metadata": {},
   "outputs": [],
   "source": [
    "demographic = merged_df[['author', 'topic_children', 'topic_love', 'topic_sports', 'topic_friends', 'topic_family',\n",
    "                         'topic_animals', 'topic_day_to_day', 'topic_huwelijk', 'topic_home', \n",
    "                         'topic_leisure', 'topic_werk', 'topic_short', 'topic_sweet']]\n",
    "\n",
    "# Bereken de som van elk onderwerp per auteur\n",
    "author_topic_sums = demographic.groupby('author').sum()\n",
    "\n",
    "# Maak een horizontale barchart voor elk onderwerp met author 1 links en author 2 rechts\n",
    "fig, axes = plt.subplots(nrows=2, ncols=1, figsize=(10, 12), sharex=True)\n",
    "\n",
    "# Plot voor author 1\n",
    "author_topic_sums.loc['sudsy-mole'].plot(kind='barh', ax=axes[0], color='blue')\n",
    "axes[0].set_title('Author 1')\n",
    "axes[0].set_xlabel('Sum')\n",
    "axes[0].set_ylabel('Topics')\n",
    "\n",
    "# Plot voor author 2\n",
    "author_topic_sums.loc['kaleidoscopic-ferret'].plot(kind='barh', ax=axes[1], color='red')\n",
    "axes[1].set_title('Author 2')\n",
    "axes[1].set_xlabel('Sum')\n",
    "axes[1].set_ylabel('Topics')\n",
    "\n",
    "plt.tight_layout()\n",
    "plt.show()"
   ]
  },
  {
   "cell_type": "markdown",
   "metadata": {},
   "source": [
    "Inladen van de Player Role json"
   ]
  },
  {
   "cell_type": "code",
   "execution_count": null,
   "metadata": {},
   "outputs": [],
   "source": [
    "player_roles = pd.read_json(role_file, encoding = \"latin\")\n",
    "player_roles.head()"
   ]
  },
  {
   "cell_type": "markdown",
   "metadata": {},
   "source": [
    "Merge dataframes"
   ]
  },
  {
   "cell_type": "code",
   "execution_count": null,
   "metadata": {},
   "outputs": [],
   "source": [
    "merged_df = pd.merge(merged_df, player_roles, left_on='author', right_on='Author')\n",
    "merged_df[\"has_image\"] = merged_df[\"message\"].str.contains(\"<Media weggela\").astype(int)\n",
    "merged_df[\"has_tikkie\"] = merged_df[\"message\"].str.contains(\"https://tikkie.me\").astype(int)\n",
    "merged_df.shape"
   ]
  },
  {
   "cell_type": "code",
   "execution_count": null,
   "metadata": {},
   "outputs": [],
   "source": [
    "q1 = lambda x: np.quantile(x, 0.25)\n",
    "q3 = lambda x: np.quantile(x, 0.75)\n",
    "\n",
    "merged_df[\"hour\"] = merged_df.timestamp.dt.hour\n",
    "quantiles = merged_df.groupby(\"hour\")[\"message_length\"].agg([q1, q3])\n",
    "quantiles.columns = [\"q1\", \"q3\"]\n",
    "\n",
    "p = quantiles.reindex(range(24), fill_value=0)\n",
    "\n",
    "sns.scatterplot(data=p, x=\"q1\", y=p.index, color=\"grey\")\n",
    "sns.scatterplot(data=p, x=\"q3\", y=p.index, color=\"grey\")\n",
    "for index, row in p.iterrows():\n",
    "    sns.lineplot(x=[row[\"q1\"], row[\"q3\"]], y=[index, index], color=\"grey\")"
   ]
  },
  {
   "cell_type": "code",
   "execution_count": null,
   "metadata": {},
   "outputs": [],
   "source": [
    "tikkie = merged_df[merged_df[\"has_tikkie\"] == 1]\n",
    "tikkie.head()\n",
    "tikkie.shape\n"
   ]
  },
  {
   "cell_type": "markdown",
   "metadata": {},
   "source": [
    "Aantal berichten per maand visualiseren."
   ]
  },
  {
   "cell_type": "code",
   "execution_count": null,
   "metadata": {},
   "outputs": [],
   "source": [
    "merged_df_2022 = merged_df[merged_df[\"timestamp\"].dt.year == 2022]\n",
    "mask = (merged_df[\"timestamp\"] >= \"2021-06-01\") & (merged_df[\"timestamp\"] <= \"2022-09-01\")\n",
    "filtered_df = merged_df.loc[mask]\n",
    "filtered_emoji_df = filtered_df[filtered_df[\"has_emoji\"] == True]\n",
    "filtered_images_df = filtered_df[filtered_df[\"has_image\"] == 1]\n",
    "\n",
    "messages_per_month = filtered_df.groupby(filtered_df[\"timestamp\"].dt.to_period(\"M\")).size()\n",
    "messages_per_week = filtered_df.groupby(filtered_df[\"timestamp\"].dt.to_period(\"W\")).size()\n",
    "messages_per_day = filtered_df.groupby(filtered_df[\"timestamp\"].dt.to_period(\"D\")).size()\n",
    "emojis_per_month = filtered_emoji_df.groupby(filtered_df[\"timestamp\"].dt.to_period(\"M\")).size()\n",
    "emojis_per_week = filtered_emoji_df.groupby(filtered_df[\"timestamp\"].dt.to_period(\"W\")).size()\n",
    "emojis_per_day = filtered_emoji_df.groupby(filtered_df[\"timestamp\"].dt.to_period(\"D\")).size()\n",
    "images_per_month = filtered_images_df.groupby(filtered_df[\"timestamp\"].dt.to_period(\"M\")).size()\n",
    "images_per_week = filtered_images_df.groupby(filtered_df[\"timestamp\"].dt.to_period(\"W\")).size()\n",
    "images_per_day = filtered_images_df.groupby(filtered_df[\"timestamp\"].dt.to_period(\"D\")).size()\n",
    "\n",
    "\n",
    "plt.figure(figsize=(20, 6))\n",
    "plt.figure(figsize=(20, 6))\n",
    "ax = plt.gca()\n",
    "\n",
    "# Plot de berichten per week en per maand\n",
    "messages_per_week.plot(kind=\"line\", ax=ax)\n",
    "images_per_week.plot(kind=\"line\", ax=ax)\n",
    "\n",
    "# Voeg de grijze achtergrond toe voor februari 2022 en juni 2022\n",
    "ax.axvspan(\"2022-02-13\", \"2022-02-21\", color=\"blue\", alpha=0.3)\n",
    "ax.axvspan(\"2022-05-28\",\"2022-06-10\", color=\"grey\", alpha=0.3)\n",
    "\n",
    "# messages_per_week.plot(kind=\"line\")\n",
    "# images_per_week.plot(kind=\"line\")\n",
    "\n",
    "highlight_date = pd.Timestamp(\"2022-06-02\")\n",
    "highlight_value = messages_per_week.loc[highlight_date.to_period(\"W\")]\n",
    "ax.annotate('Play Offs', xy=(highlight_date, highlight_value), xytext=(highlight_date, highlight_value + 80),\n",
    "            arrowprops=dict(facecolor='black', shrink=0.05))\n",
    "\n",
    "highlight_date = pd.Timestamp(\"2022-02-19\")\n",
    "highlight_value = messages_per_week.loc[highlight_date.to_period(\"W\")]\n",
    "ax.annotate('Teamweekend', xy=(highlight_date, highlight_value), xytext=(highlight_date, highlight_value + 80),\n",
    "            arrowprops=dict(facecolor='black', shrink=0.005))\n",
    "\n",
    "plt.title(\"Aantal berichten per maand\")\n",
    "plt.xlabel(\"Maand\")\n",
    "plt.ylabel(\"Aantal berichten\")\n",
    "plt.show()"
   ]
  },
  {
   "cell_type": "markdown",
   "metadata": {},
   "source": [
    "Voeg verschillende kolommen toe aan de data, met name kolommen gerelateerd aan datetime, maar ook een kolom die kijkt of er media is gestuurd met het bericht."
   ]
  },
  {
   "cell_type": "code",
   "execution_count": null,
   "metadata": {},
   "outputs": [],
   "source": [
    "merged_df[\"day_of_month\"] = merged_df[\"timestamp\"].dt.day\n",
    "merged_df[\"day\"] = merged_df[\"timestamp\"].dt.day_name()\n",
    "merged_df[\"month_number\"] = merged_df[\"timestamp\"].dt.month\n",
    "merged_df[\"month_name\"] = merged_df[\"timestamp\"].dt.month_name()\n",
    "merged_df[\"year\"] = merged_df[\"timestamp\"].dt.year\n",
    "merged_df[\"has_image\"] = merged_df[\"message\"].str.contains(\"<Media weggelaten>\").astype(int)\n",
    "merged_df.head()"
   ]
  },
  {
   "cell_type": "markdown",
   "metadata": {},
   "source": [
    "Maak visualisatie van de gemiddelde lengte van de berichten afhangende van de functie"
   ]
  },
  {
   "cell_type": "code",
   "execution_count": null,
   "metadata": {},
   "outputs": [],
   "source": [
    "merged_df[\"message_length\"] = merged_df[\"message\"].str.len()\n",
    "player_message_count = merged_df[merged_df['Function'] == 'Player'].count()['message']\n",
    "staff_message_count = merged_df[merged_df['Function'] == 'Staff'].count()['message']\n",
    "\n",
    "p1 = (\n",
    "    merged_df[[\"Function\", \"message_length\"]]\n",
    "    .groupby(\"Function\")\n",
    "    .mean()\n",
    "    .sort_values(\"message_length\", ascending=False)\n",
    ")\n",
    "\n",
    "sns.barplot(x=p1.index, y=p1[\"message_length\"], palette = [\"red\", \"lightgrey\"]  )\n",
    "for i, v in enumerate(p1[\"message_length\"]):\n",
    "    plt.text(i, v*0.98, f'{v:.1f}', ha='center', va='top', fontsize=12)\n",
    "plt.xlabel(\"Function within team\")\n",
    "plt.ylabel(\"Average Message length\")\n",
    "plt.title(\"Staff members sending longer messages\")\n",
    "\n",
    "\n",
    "plt.figtext(0.05, -0.05, f\"Gebaseerd op {player_message_count:,}\".replace(',', '.') + f\" berichten van de players en {staff_message_count:,}\".replace(',', '.') +f\" berichten van de staff.\", \n",
    "            ha='left', va='center', fontsize=8, fontstyle= \"italic\")\n",
    "\n",
    "plt.tight_layout() \n",
    "plt.subplots_adjust(bottom=0.1) "
   ]
  },
  {
   "cell_type": "markdown",
   "metadata": {},
   "source": [
    "Show number of messages per year."
   ]
  },
  {
   "cell_type": "code",
   "execution_count": null,
   "metadata": {},
   "outputs": [],
   "source": [
    "no_of_messages = (\n",
    "    merged_df[[\"Function\", \"message\", \"has_image\"]]\n",
    "    .groupby(\"Function\")\n",
    "    .agg(\n",
    "        no_of_messages=(\"message\",\"count\"),\n",
    "        no_of_images=(\"has_image\", \"sum\")\n",
    "    )\n",
    "    .sort_values(\"Function\", ascending=True)\n",
    ")\n",
    "no_of_messages[ \"percentage_with_images\"] = (no_of_messages['no_of_images'] / no_of_messages['no_of_messages'] * 100)\n",
    "\n",
    "no_of_messages"
   ]
  },
  {
   "cell_type": "markdown",
   "metadata": {},
   "source": [
    "Count the number of messages per day and group them."
   ]
  },
  {
   "cell_type": "code",
   "execution_count": null,
   "metadata": {},
   "outputs": [],
   "source": [
    "month_day_count = merged_df.groupby([\"month_name\", \"month_number\", \"day_of_month\"]).size().unstack(fill_value = 0)\n",
    "year_month_day_count = merged_df.groupby([\"year\", \"month_name\", \"month_number\", \"day_of_month\"]).size().unstack(fill_value = 0)\n",
    "month_day_count.head()\n",
    "year_month_day_count.head()\n",
    "# average_per_day = month_day_count.mean(axis=0)"
   ]
  },
  {
   "cell_type": "code",
   "execution_count": null,
   "metadata": {},
   "outputs": [],
   "source": [
    "years = year_month_day_count.index.get_level_values(\"year\").unique()\n",
    "\n",
    "for year in years:\n",
    "    data_for_year = year_month_day_count.loc[year]\n",
    "    \n",
    "    plt.figure(figsize=(12, 8))\n",
    "    sns.heatmap(data_for_year, cmap=\"YlGnBu\", annot=True, fmt=\"d\")\n",
    "    plt.title(f\"Heatmap van tellingen voor jaar {year}\")\n",
    "    plt.xlabel(\"Dag van de maand\")\n",
    "    plt.ylabel(\"Maand\")\n",
    "    plt.show()"
   ]
  },
  {
   "cell_type": "code",
   "execution_count": null,
   "metadata": {},
   "outputs": [],
   "source": [
    "plt.figure(figsize=(16,10))\n",
    "sns.heatmap(month_day_count, annot=True, fmt=\"d\", linewidths=0.5, cmap=\"GnBu\")\n",
    "plt.xticks(\n",
    "    ticks=range(31),\n",
    "    labels=range(1, 32)\n",
    ")\n",
    "\n",
    "plt.yticks(\n",
    "    ticks=range(12),\n",
    "    labels=[\"January\", \"February\", \"March\", \"April\", \"May\", \"June\", \"July\", \"August\", \"September\", \"October\", \"November\", \"December\"],\n",
    "    rotation=0\n",
    ")\n",
    "\n",
    "plt.title(\"Heatmap van verzonden berichten per dag per maand\")\n",
    "plt.xlabel(\"Dag van de maand\")\n",
    "plt.ylabel(\"Maand\")\n",
    "plt.show()"
   ]
  },
  {
   "cell_type": "code",
   "execution_count": null,
   "metadata": {},
   "outputs": [],
   "source": []
  }
 ],
 "metadata": {
  "kernelspec": {
   "display_name": ".venv",
   "language": "python",
   "name": "python3"
  },
  "language_info": {
   "codemirror_mode": {
    "name": "ipython",
    "version": 3
   },
   "file_extension": ".py",
   "mimetype": "text/x-python",
   "name": "python",
   "nbconvert_exporter": "python",
   "pygments_lexer": "ipython3",
   "version": "3.12.8"
  }
 },
 "nbformat": 4,
 "nbformat_minor": 2
}
