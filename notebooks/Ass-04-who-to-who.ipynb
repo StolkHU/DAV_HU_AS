{
 "cells": [
  {
   "cell_type": "markdown",
   "metadata": {},
   "source": [
    "### Let\"s create a visualisation for the groupschat of a field hockey team :)"
   ]
  },
  {
   "cell_type": "markdown",
   "metadata": {},
   "source": [
    "Import the used packages."
   ]
  },
  {
   "cell_type": "code",
   "execution_count": null,
   "metadata": {},
   "outputs": [],
   "source": [
    "from pathlib import Path\n",
    "from loguru import logger\n",
    "import pandas as pd\n",
    "import seaborn as sns\n",
    "import matplotlib.pyplot as plt\n",
    "import tomllib\n",
    "import numpy as np\n",
    "import openpyxl\n",
    "import re\n"
   ]
  },
  {
   "cell_type": "markdown",
   "metadata": {},
   "source": [
    "Use the same way as the notebook in the course folder to get the data."
   ]
  },
  {
   "cell_type": "code",
   "execution_count": null,
   "metadata": {},
   "outputs": [],
   "source": [
    "configfile = Path(\"../config.toml\").resolve()\n",
    "with configfile.open(\"rb\") as f:\n",
    "    config = tomllib.load(f)\n",
    "config"
   ]
  },
  {
   "cell_type": "code",
   "execution_count": null,
   "metadata": {},
   "outputs": [],
   "source": [
    "root = Path(\"..\").resolve()\n",
    "processed = root / Path(config[\"processed\"])\n",
    "raw = root / Path(config[\"raw\"])\n",
    "datafile = processed / config[\"current\"]\n",
    "role_file = raw / config[\"role_file\"]\n"
   ]
  },
  {
   "cell_type": "code",
   "execution_count": null,
   "metadata": {},
   "outputs": [],
   "source": [
    "merged_df = pd.read_parquet(datafile)\n",
    "\n",
    "emoji_pattern = re.compile(\n",
    "    \"[\"\n",
    "    \"\\U0001F600-\\U0001F64F\"  # emoticons\n",
    "    \"\\U0001F300-\\U0001F5FF\"  # symbols & pictographs\n",
    "    \"\\U0001F680-\\U0001F6FF\"  # transport & map symbols\n",
    "    \"\\U0001F1E0-\\U0001F1FF\"  # flags (iOS)\n",
    "    \"\\U00002702-\\U000027B0\"  # Dingbats\n",
    "    \"\\U000024C2-\\U0001F251\"\n",
    "    \"]+\",\n",
    "    flags=re.UNICODE,\n",
    ")\n",
    "\n",
    "def count_emojis(text):\n",
    "    return len(emoji_pattern.findall(text))\n",
    "\n",
    "merged_df[\"emoji_count\"] = merged_df[\"message\"].apply(count_emojis)\n",
    "\n",
    "\n",
    "merged_df[\"message_length\"] = merged_df[\"message\"].str.len()\n",
    "merged_df['prev_author'] = merged_df['author'].shift(1)\n",
    "merged_df['prev_timestamp'] = merged_df['timestamp'].shift(1)\n",
    "merged_df['time_since_prev_sec'] = (merged_df['timestamp'] - merged_df['prev_timestamp']).dt.total_seconds()\n",
    "merged_df['time_since_prev_min'] = (merged_df['timestamp'] - merged_df['prev_timestamp']).dt.total_seconds() / 60\n",
    "merged_df.head()\n",
    "print(merged_df.columns)"
   ]
  },
  {
   "cell_type": "code",
   "execution_count": null,
   "metadata": {},
   "outputs": [],
   "source": [
    "# author_matrix = merged_df[merged_df['author'] != merged_df['prev_author']].copy()\n",
    "# author_matrix = merged_df.pivot_table(index='author', columns='prev_author', values='message', aggfunc='count', fill_value=0)\n",
    "\n",
    "# plt.figure(figsize=(10, 8))\n",
    "# sns.heatmap(author_matrix, annot=True, fmt=\"d\", cmap=\"YlGnBu\")\n",
    "# plt.title(\"Number of Messages from One Author to Previous Author\")\n",
    "# plt.xlabel(\"Previous Author\")\n",
    "# plt.ylabel(\"Author\")\n",
    "# plt.show()"
   ]
  },
  {
   "cell_type": "code",
   "execution_count": null,
   "metadata": {},
   "outputs": [],
   "source": [
    "player_roles = pd.read_json(role_file, encoding = \"latin\")\n",
    "player_roles.head()"
   ]
  },
  {
   "cell_type": "code",
   "execution_count": null,
   "metadata": {},
   "outputs": [],
   "source": [
    "merged_df = pd.merge(merged_df, player_roles, left_on='author', right_on='Author')\n",
    "merged_df = merged_df.drop(columns=['Author'])\n",
    "merged_df['prev_position'] = merged_df['Position'].shift(1)\n",
    "print(merged_df.columns)"
   ]
  },
  {
   "cell_type": "code",
   "execution_count": null,
   "metadata": {},
   "outputs": [],
   "source": [
    "# Filter rijen waar er geen berichten naar elkaar worden gestuurd\n",
    "filtered_df = merged_df[merged_df['prev_author'].notna()]\n",
    "filtered_df = merged_df[merged_df['author'] != merged_df['prev_author']].copy()\n",
    "\n",
    "# Maak een pivot table om het aantal berichten van de ene auteur naar de vorige auteur te tellen\n",
    "author_matrix = filtered_df.pivot_table(index='Position', columns='prev_position', values='message', aggfunc='count', fill_value=0)\n",
    "\n",
    "# Plot de matrix met een heatmap\n",
    "plt.figure(figsize=(12, 10))\n",
    "sns.heatmap(author_matrix, annot=True, fmt=\"d\", cmap=\"YlGnBu\")\n",
    "plt.title(\"Number of Messages from One Author to Previous Author\")\n",
    "plt.xlabel(\"Previous Author\")\n",
    "plt.ylabel(\"Author\")\n",
    "plt.show()\n",
    "\n",
    "print(author_matrix.columns)"
   ]
  },
  {
   "cell_type": "code",
   "execution_count": null,
   "metadata": {},
   "outputs": [],
   "source": [
    "# Zorg ervoor dat merged_df correct is ingeladen en verwerkt\n",
    "# Filter rijen waar er geen berichten naar elkaar worden gestuurd\n",
    "filtered_df = merged_df[merged_df['prev_author'].notna()]\n",
    "filtered_df = merged_df[merged_df['author'] != merged_df['prev_author']].copy()\n",
    "\n",
    "# Maak een pivot table om het aantal berichten van de ene auteur naar de vorige auteur te tellen\n",
    "author_matrix = filtered_df.pivot_table(index='Position', columns='prev_position', values='message', aggfunc='count', fill_value=0)\n",
    "\n",
    "# Bewaar de originele matrix met aantallen\n",
    "author_matrix_counts = author_matrix.copy()\n",
    "\n",
    "# Bereken percentages per rij (elke rij telt op tot 100%)\n",
    "author_matrix_percentages = author_matrix.div(author_matrix.sum(axis=1), axis=0)\n",
    "author_matrix_percentages = author_matrix_percentages.round(3)  # Rond af op 1 decimaal\n",
    "\n",
    "# Define the desired order for sorting\n",
    "desired_order = ['Keeper', 'Verdediger', 'Middenvelder', 'Aanvaller', 'Staff']\n",
    "\n",
    "# Reindex the matrix to match the desired order\n",
    "author_matrix_percentages = author_matrix_percentages.reindex(index=desired_order, columns=desired_order)\n",
    "\n",
    "# Groeperen op 'Position' en tellen van unieke 'author' en het aantal berichten, en combineer de resultaten in een enkele DataFrame\n",
    "overzicht_df = pd.DataFrame({\n",
    "    'Aantal authors': merged_df.groupby('Position')['author'].nunique(),\n",
    "    'Aantal berichten': merged_df.groupby('Position')['message'].count()\n",
    "})\n",
    "\n",
    "# Reindex het DataFrame op basis van de gewenste volgorde\n",
    "overzicht_df = overzicht_df.reindex(desired_order)\n",
    "\n",
    "# Maak de zin gebaseerd op het overzicht DataFrame\n",
    "total_messages = overzicht_df['Aantal berichten'].sum()\n",
    "sentence_parts = [f\"Gebaseerd op {total_messages:,} berichten, waarbij iemand niet op zichzelf heeft gereageerd.\\n\"]\n",
    "\n",
    "for position, row in overzicht_df.iterrows():\n",
    "    sentence_parts.append(f\"{position}: {row['Aantal berichten']:,} berichten verzonden door {row['Aantal authors']} auteurs\\n\")\n",
    "\n",
    "sentence = \"\".join(sentence_parts)\n",
    "\n",
    "# Vervang komma's door punten\n",
    "sentence = sentence.replace(\",\", \".\")\n",
    "\n",
    "# Plot de percentages met een heatmap, waarbij de x-as en y-as worden omgedraaid, de streepjes bij de assen worden verwijderd, een grid wordt toegevoegd en de vakjes kleiner worden gemaakt\n",
    "plt.figure(figsize=(10, 6))\n",
    "sns.heatmap(author_matrix_percentages, annot=True, fmt=\".3f\", cmap=\"PuBu\", linewidths=.5, cbar=False)\n",
    "plt.suptitle('Ook in de groepschat zetten de verdedigers de lijnen uit', fontsize=16, fontweight= 'bold')\n",
    "plt.title(\"Grootste kans op een reply van een verdediger\")\n",
    "plt.xlabel(\"Beantwoorder\", labelpad=20, fontweight=\"bold\", fontsize = 12)  # Voeg padding toe aan x-as label\n",
    "plt.ylabel(\"Verzender\", labelpad=20, fontweight=\"bold\", fontsize = 12)  # Voeg padding toe aan y-as label\n",
    "plt.xticks(rotation=0)\n",
    "plt.yticks(rotation=0)\n",
    "plt.gca().xaxis.set_ticks_position('none') \n",
    "plt.gca().yaxis.set_ticks_position('none')\n",
    "\n",
    "\n",
    "\n",
    "# Voeg figtext toe met het overzicht van het aantal auteurs en berichten per positie\n",
    "plt.figtext(0.0, -0.2, sentence, wrap=True, horizontalalignment='left', fontsize=10)\n",
    "# Voeg witruimte toe aan de rechterkant van de visual\n",
    "plt.subplots_adjust(right=0.75)\n",
    "plt.savefig(\"Relationships.png\", bbox_inches='tight')\n",
    "plt.show()\n",
    "\n",
    "\n"
   ]
  },
  {
   "cell_type": "code",
   "execution_count": null,
   "metadata": {},
   "outputs": [],
   "source": [
    "# Groeperen op 'Position' en tellen van unieke 'author' en het aantal berichten, en combineer de resultaten in een enkele DataFrame\n",
    "overzicht_df = pd.DataFrame({\n",
    "    'Aantal authors': merged_df.groupby('Position')['author'].nunique(),\n",
    "    'Aantal berichten': merged_df.groupby('Position')['message'].count()\n",
    "})\n",
    "\n",
    "# Definieer de gewenste volgorde\n",
    "desired_order = ['Keeper', 'Verdediger', 'Middenvelder', 'Aanvaller', 'Staff']\n",
    "\n",
    "# Reindex het DataFrame op basis van de gewenste volgorde\n",
    "overzicht_df = overzicht_df.reindex(desired_order)\n",
    "\n",
    "# Maak de zin gebaseerd op het overzicht DataFrame\n",
    "total_messages = overzicht_df['Aantal berichten'].sum()\n",
    "sentence_parts = [f\"Gebaseerd op {total_messages:,} berichten\\n\"]\n",
    "\n",
    "for position, row in overzicht_df.iterrows():\n",
    "    sentence_parts.append(f\"{position}: {row['Aantal berichten']:,} berichten verzonden door {row['Aantal authors']} auteurs\\n\")\n",
    "\n",
    "sentence = \"\".join(sentence_parts)\n",
    "\n",
    "# Vervang komma's door punten\n",
    "sentence = sentence.replace(\",\", \".\")\n",
    "\n",
    "print(sentence)"
   ]
  },
  {
   "cell_type": "code",
   "execution_count": null,
   "metadata": {},
   "outputs": [],
   "source": [
    "# Groeperen op 'Position' en tellen van unieke 'author' en het aantal berichten, en combineer de resultaten in een enkele DataFrame\n",
    "overzicht_df = pd.DataFrame({\n",
    "    'Aantal authors': merged_df.groupby('Position')['author'].nunique(),\n",
    "    'Aantal berichten': merged_df.groupby('Position')['message'].count()\n",
    "})\n",
    "\n",
    "# Maak de zin gebaseerd op het overzicht DataFrame\n",
    "total_messages = overzicht_df['Aantal berichten'].sum()\n",
    "sentence_parts = [f\"Gebaseerd op {total_messages:,} berichten:\\n\"]\n",
    "\n",
    "for position, row in overzicht_df.iterrows():\n",
    "    sentence_parts.append(f\"waarvan {row['Aantal berichten']:,} berichten met positie {position} verzonden door {row['Aantal authors']} auteurs\\n\")\n",
    "\n",
    "sentence = \"\".join(sentence_parts)\n",
    "# Vervang komma's door punten\n",
    "sentence = sentence.replace(\",\", \".\")\n",
    "\n",
    "print(sentence)"
   ]
  },
  {
   "cell_type": "code",
   "execution_count": null,
   "metadata": {},
   "outputs": [],
   "source": [
    "# Zorg ervoor dat merged_df correct is ingeladen en verwerkt\n",
    "# Filter rijen waar er geen berichten naar elkaar worden gestuurd\n",
    "filtered_df = merged_df[merged_df['author'] != merged_df['prev_author']].copy()\n",
    "# filtered_df = filtered_df[filtered_df['prev_author'].notna()]\n",
    "\n",
    "# Maak een pivot table om het aantal berichten van de ene auteur naar de vorige auteur te tellen\n",
    "author_matrix = filtered_df.pivot_table(index='Position', columns='prev_position', values='message', aggfunc='count', fill_value=0)\n",
    "\n",
    "# Bereken de percentages van de berichten in de matrix zodat de som van de percentages per categorie 100% is\n",
    "author_matrix_percentage = author_matrix.div(author_matrix.sum(axis=1), axis=0) * 100\n",
    "\n",
    "# Plot de matrix met een heatmap en plaats de x-as waarden en titel bovenaan\n",
    "plt.figure(figsize=(12, 10))\n",
    "sns.heatmap(author_matrix_percentage, annot=True, fmt=\".2f\", cmap=\"YlGnBu\", cbar_kws={'orientation': 'horizontal'})\n",
    "plt.title(\"Percentage of Messages from One Author to Previous Author\")\n",
    "plt.xlabel(\"Author\")\n",
    "plt.ylabel(\"Replier\")\n",
    "plt.xticks(rotation=90)\n",
    "plt.gca().xaxis.tick_top()  # Plaats de x-as waarden bovenaan\n",
    "plt.gca().xaxis.set_label_position('top')  # Plaats de x-as titel bovenaan\n",
    "\n",
    "# Verwijder de streepjes van de assen\n",
    "plt.tick_params(axis='both', which='both', length=0)\n",
    "\n",
    "plt.show()"
   ]
  },
  {
   "cell_type": "code",
   "execution_count": null,
   "metadata": {},
   "outputs": [],
   "source": [
    "# df = merged_df[merged_df['author'] != merged_df['prev_author']].copy()\n",
    "df = merged_df\n",
    "\n",
    "p = (\n",
    "    df.groupby([\"author\", \"Position\"])\n",
    "    .agg({\"message_length\": \"mean\", \"time_since_prev_min\": \"mean\", \"has_emoji\": \"mean\", \"author\": \"count\"})\n",
    "    .rename(columns={\"author\": \"count\"})\n",
    ")\n",
    "\n",
    "p = p[p[\"count\"] > 10]\n",
    "sns.scatterplot(data=p, x=\"message_length\", y=\"has_emoji\", hue = \"Position\", alpha=0.5)\n",
    "print(p.columns)"
   ]
  },
  {
   "cell_type": "code",
   "execution_count": null,
   "metadata": {},
   "outputs": [],
   "source": [
    "scatter_plot = sns.scatterplot(data=p, x=\"message_length\", y=\"has_emoji\", size=\"count\", sizes=(10, 500), alpha=0.3, hue=\"Position\", palette=\"bright\")\n",
    "\n",
    "# Verplaats de legenda buiten de grafiek\n",
    "scatter_plot.legend(loc='center left', bbox_to_anchor=(1, 0.5), title=\"Position\")\n",
    "print(p.columns)"
   ]
  },
  {
   "cell_type": "code",
   "execution_count": null,
   "metadata": {},
   "outputs": [],
   "source": [
    "# Reset de index zodat author en Position gewone kolommen worden\n",
    "p = p.reset_index()\n",
    "\n",
    "# Nu kun je gewoon je scatterplot maken\n",
    "scatter_plot = sns.scatterplot(\n",
    "    data=p, \n",
    "    x=\"message_length\", \n",
    "    y=\"has_emoji\", \n",
    "    size=\"count\", \n",
    "    sizes=(10, 500), \n",
    "    alpha=0.5,\n",
    "    hue=\"Position\",\n",
    "    palette=\"Dark2\"  # Duidelijkere kleuren\n",
    ")\n",
    "\n",
    "# Verwijder de standaard legenda\n",
    "scatter_plot.legend_.remove()\n",
    "\n",
    "# Maak een nieuwe legenda die alleen de Position-variabele toont\n",
    "handles, labels = scatter_plot.get_legend_handles_labels()\n",
    "num_positions = len(p[\"Position\"].unique())\n",
    "position_handles = handles[-num_positions:]\n",
    "position_labels = labels[-num_positions:]\n",
    "\n",
    "# Voeg de nieuwe legenda toe\n",
    "scatter_plot.legend(\n",
    "    position_handles, \n",
    "    position_labels, \n",
    "    loc='center left', \n",
    "    bbox_to_anchor=(1, 0.5), \n",
    "    title=\"Position\"\n",
    ")"
   ]
  }
 ],
 "metadata": {
  "kernelspec": {
   "display_name": ".venv",
   "language": "python",
   "name": "python3"
  },
  "language_info": {
   "codemirror_mode": {
    "name": "ipython",
    "version": 3
   },
   "file_extension": ".py",
   "mimetype": "text/x-python",
   "name": "python",
   "nbconvert_exporter": "python",
   "pygments_lexer": "ipython3",
   "version": "3.12.8"
  }
 },
 "nbformat": 4,
 "nbformat_minor": 2
}
