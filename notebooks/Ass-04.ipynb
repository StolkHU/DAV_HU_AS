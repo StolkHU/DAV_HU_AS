{
 "cells": [
  {
   "cell_type": "markdown",
   "metadata": {},
   "source": [
    "### Let\"s create a visualisation for the groupschat of a field hockey team :)"
   ]
  },
  {
   "cell_type": "markdown",
   "metadata": {},
   "source": [
    "Import the used packages."
   ]
  },
  {
   "cell_type": "code",
   "execution_count": null,
   "metadata": {},
   "outputs": [],
   "source": [
    "from pathlib import Path\n",
    "from loguru import logger\n",
    "import pandas as pd\n",
    "import seaborn as sns\n",
    "import matplotlib.pyplot as plt\n",
    "import tomllib\n",
    "import numpy as np\n",
    "import openpyxl\n",
    "import re\n"
   ]
  },
  {
   "cell_type": "markdown",
   "metadata": {},
   "source": [
    "Use the same way as the notebook in the course folder to get the data."
   ]
  },
  {
   "cell_type": "code",
   "execution_count": null,
   "metadata": {},
   "outputs": [],
   "source": [
    "configfile = Path(\"../config.toml\").resolve()\n",
    "with configfile.open(\"rb\") as f:\n",
    "    config = tomllib.load(f)\n",
    "config"
   ]
  },
  {
   "cell_type": "code",
   "execution_count": null,
   "metadata": {},
   "outputs": [],
   "source": [
    "root = Path(\"..\").resolve()\n",
    "processed = root / Path(config[\"processed\"])\n",
    "raw = root / Path(config[\"raw\"])\n",
    "datafile = processed / config[\"current\"]\n",
    "role_file = raw / config[\"role_file\"]\n"
   ]
  },
  {
   "cell_type": "code",
   "execution_count": null,
   "metadata": {},
   "outputs": [],
   "source": [
    "merged_df = pd.read_parquet(datafile)\n",
    "\n",
    "emoji_pattern = re.compile(\n",
    "    \"[\"\n",
    "    \"\\U0001F600-\\U0001F64F\"  # emoticons\n",
    "    \"\\U0001F300-\\U0001F5FF\"  # symbols & pictographs\n",
    "    \"\\U0001F680-\\U0001F6FF\"  # transport & map symbols\n",
    "    \"\\U0001F1E0-\\U0001F1FF\"  # flags (iOS)\n",
    "    \"\\U00002702-\\U000027B0\"  # Dingbats\n",
    "    \"\\U000024C2-\\U0001F251\"\n",
    "    \"]+\",\n",
    "    flags=re.UNICODE,\n",
    ")\n",
    "\n",
    "def count_emojis(text):\n",
    "    return len(emoji_pattern.findall(text))\n",
    "\n",
    "merged_df[\"emoji_count\"] = merged_df[\"message\"].apply(count_emojis)\n",
    "\n",
    "\n",
    "merged_df[\"message_length\"] = merged_df[\"message\"].str.len()\n",
    "merged_df['prev_author'] = merged_df['author'].shift(1)\n",
    "merged_df['prev_timestamp'] = merged_df['timestamp'].shift(1)\n",
    "merged_df['time_since_prev_sec'] = (merged_df['timestamp'] - merged_df['prev_timestamp']).dt.total_seconds()\n",
    "merged_df['time_since_prev_min'] = (merged_df['timestamp'] - merged_df['prev_timestamp']).dt.total_seconds() / 60\n",
    "merged_df.head()\n",
    "print(merged_df.columns)"
   ]
  },
  {
   "cell_type": "code",
   "execution_count": null,
   "metadata": {},
   "outputs": [],
   "source": [
    "# author_matrix = merged_df[merged_df['author'] != merged_df['prev_author']].copy()\n",
    "# author_matrix = merged_df.pivot_table(index='author', columns='prev_author', values='message', aggfunc='count', fill_value=0)\n",
    "\n",
    "# plt.figure(figsize=(10, 8))\n",
    "# sns.heatmap(author_matrix, annot=True, fmt=\"d\", cmap=\"YlGnBu\")\n",
    "# plt.title(\"Number of Messages from One Author to Previous Author\")\n",
    "# plt.xlabel(\"Previous Author\")\n",
    "# plt.ylabel(\"Author\")\n",
    "# plt.show()"
   ]
  },
  {
   "cell_type": "code",
   "execution_count": null,
   "metadata": {},
   "outputs": [],
   "source": [
    "player_roles = pd.read_json(role_file, encoding = \"latin\")\n",
    "player_roles.head()"
   ]
  },
  {
   "cell_type": "code",
   "execution_count": null,
   "metadata": {},
   "outputs": [],
   "source": [
    "merged_df = pd.merge(merged_df, player_roles, left_on='author', right_on='Author')\n",
    "merged_df = merged_df.drop(columns=['Author'])\n",
    "merged_df['prev_position'] = merged_df['Position'].shift(1)\n",
    "print(merged_df.columns)"
   ]
  },
  {
   "cell_type": "code",
   "execution_count": null,
   "metadata": {},
   "outputs": [],
   "source": [
    "# df = merged_df[merged_df['author'] != merged_df['prev_author']].copy()\n",
    "df = merged_df\n",
    "\n",
    "p = (\n",
    "    df.groupby([\"author\", \"Position\"])\n",
    "    .agg({\"message_length\": \"mean\", \"time_since_prev_min\": \"mean\", \"has_emoji\": \"mean\", \"author\": \"count\"})\n",
    "    .rename(columns={\"author\": \"count\"})\n",
    ")\n",
    "\n",
    "p = p[p[\"count\"] > 10]\n",
    "sns.scatterplot(data=p, x=\"message_length\", y=\"has_emoji\", hue = \"Position\", alpha=0.5)\n",
    "print(p.columns)"
   ]
  },
  {
   "cell_type": "code",
   "execution_count": null,
   "metadata": {},
   "outputs": [],
   "source": [
    "scatter_plot = sns.scatterplot(data=p, x=\"message_length\", y=\"has_emoji\", size=\"count\", sizes=(10, 500), alpha=0.3, hue=\"Position\", palette=\"bright\")\n",
    "\n",
    "# Verplaats de legenda buiten de grafiek\n",
    "scatter_plot.legend(loc='center left', bbox_to_anchor=(1, 0.5), title=\"Position\")\n",
    "print(p.columns)"
   ]
  },
  {
   "cell_type": "code",
   "execution_count": null,
   "metadata": {},
   "outputs": [],
   "source": [
    "# Reset de index zodat author en Position gewone kolommen worden\n",
    "p = p.reset_index()\n",
    "\n",
    "# Nu kun je gewoon je scatterplot maken\n",
    "scatter_plot = sns.scatterplot(\n",
    "    data=p, \n",
    "    x=\"message_length\", \n",
    "    y=\"has_emoji\", \n",
    "    size=\"count\", \n",
    "    sizes=(10, 500), \n",
    "    alpha=0.5,\n",
    "    hue=\"Position\",\n",
    "    palette=\"Dark2\"  # Duidelijkere kleuren\n",
    ")\n",
    "\n",
    "# Verwijder de standaard legenda\n",
    "scatter_plot.legend_.remove()\n",
    "\n",
    "# Maak een nieuwe legenda die alleen de Position-variabele toont\n",
    "handles, labels = scatter_plot.get_legend_handles_labels()\n",
    "num_positions = len(p[\"Position\"].unique())\n",
    "position_handles = handles[-num_positions:]\n",
    "position_labels = labels[-num_positions:]\n",
    "\n",
    "# Voeg de nieuwe legenda toe\n",
    "scatter_plot.legend(\n",
    "    position_handles, \n",
    "    position_labels, \n",
    "    loc='center left', \n",
    "    bbox_to_anchor=(1, 0.5), \n",
    "    title=\"Position\"\n",
    ")"
   ]
  }
 ],
 "metadata": {
  "kernelspec": {
   "display_name": ".venv",
   "language": "python",
   "name": "python3"
  },
  "language_info": {
   "codemirror_mode": {
    "name": "ipython",
    "version": 3
   },
   "file_extension": ".py",
   "mimetype": "text/x-python",
   "name": "python",
   "nbconvert_exporter": "python",
   "pygments_lexer": "ipython3",
   "version": "3.12.8"
  }
 },
 "nbformat": 4,
 "nbformat_minor": 2
}
