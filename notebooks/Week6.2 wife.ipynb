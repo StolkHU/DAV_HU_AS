{
 "cells": [
  {
   "cell_type": "markdown",
   "metadata": {},
   "source": [
    "Start"
   ]
  },
  {
   "cell_type": "code",
   "execution_count": null,
   "metadata": {},
   "outputs": [],
   "source": [
    "import torch\n",
    "import seaborn as sns\n",
    "import matplotlib.pyplot as plt\n",
    "from pathlib import Path\n",
    "import pandas as pd\n",
    "import numpy as np\n",
    "from tqdm import tqdm\n",
    "from loguru import logger"
   ]
  },
  {
   "cell_type": "code",
   "execution_count": null,
   "metadata": {},
   "outputs": [],
   "source": [
    "tag = \"nlptown/bert-base-multilingual-uncased-sentiment\""
   ]
  },
  {
   "cell_type": "code",
   "execution_count": null,
   "metadata": {},
   "outputs": [],
   "source": [
    "from transformers import pipeline\n",
    "\n",
    "# models are downloaded to ~/.cache/huggingface/hub.\n",
    "# you might want to clean up that location after you are done with the models\n",
    "model = pipeline(\n",
    "    model=\"lxyuan/distilbert-base-multilingual-cased-sentiments-student\",\n",
    "    top_k=None,\n",
    "    truncation=True,  # Truncate long inputs automatically\n",
    "    max_length=512,\n",
    ")\n",
    "\n",
    "# english\n",
    "model(\"I love this movie and i would watch it again and again!\")"
   ]
  },
  {
   "cell_type": "code",
   "execution_count": null,
   "metadata": {},
   "outputs": [],
   "source": [
    "import tomllib\n",
    "\n",
    "configfile = Path(\"../config.toml\").resolve()\n",
    "with configfile.open(\"rb\") as f:\n",
    "    config = tomllib.load(f)\n",
    "datafile = (Path(\"..\") / Path(config[\"processed\"]) / config[\"current\"]).resolve()\n",
    "if not datafile.exists():\n",
    "    logger.warning(\n",
    "        \"Datafile does not exist. First run src/preprocess.py, and check the timestamp!\"\n",
    "    )\n",
    "df = pd.read_parquet(datafile)\n",
    "df.head()"
   ]
  },
  {
   "cell_type": "code",
   "execution_count": null,
   "metadata": {},
   "outputs": [],
   "source": [
    "root = Path(\"..\").resolve()\n",
    "processed = root / Path(config[\"processed\"])\n",
    "raw = root / Path(config[\"raw\"])\n",
    "datafile = processed / config[\"current\"]\n",
    "role_file = raw / config[\"role_file\"]\n",
    "player_roles = pd.read_json(role_file, encoding = \"latin\")\n",
    "player_roles.head()"
   ]
  },
  {
   "cell_type": "code",
   "execution_count": null,
   "metadata": {},
   "outputs": [],
   "source": [
    "merged_df = pd.merge(df, player_roles, left_on='author', right_on='Author')\n",
    "merged_df = merged_df.drop(columns=['Author'])\n",
    "merged_df.head()"
   ]
  },
  {
   "cell_type": "code",
   "execution_count": null,
   "metadata": {},
   "outputs": [],
   "source": [
    "from dataclasses import dataclass\n",
    "\n",
    "\n",
    "@dataclass\n",
    "class Position:\n",
    "    name: str\n",
    "    alltext: str\n",
    "    chunked: list[str]\n",
    "    sentiment: dict = None\n",
    "\n",
    "\n",
    "# extract the data from the dataframe\n",
    "datadict = {}\n",
    "for i, row in tqdm(merged_df.iterrows(), total=len(df)):\n",
    "    position = row[\"Position\"]\n",
    "    message = row[\"message\"]\n",
    "    if position not in datadict:\n",
    "        datadict[position] = Position(name=position, alltext=message, chunked=[])\n",
    "    else:\n",
    "        datadict[position].alltext += message\n",
    "\n",
    "\n",
    "def split_into_chunks(text, chunk_size=512):\n",
    "    # Split the text into words\n",
    "    words = text.split()\n",
    "    # Create chunks of the specified size\n",
    "    chunks = [\n",
    "        \" \".join(words[i : i + chunk_size]) for i in range(0, len(words), chunk_size)\n",
    "    ]\n",
    "    return chunks\n",
    "\n",
    "\n",
    "# For every author, try to split their text into chunks of 512 tokens\n",
    "for author in datadict:\n",
    "    # Get the combined text for the author\n",
    "    text = datadict[author].alltext\n",
    "    # Split the text into chunks\n",
    "    # we want 512 tokens, so lets guess about 50%\n",
    "    datadict[author].chunked = split_into_chunks(text, chunk_size=400)"
   ]
  },
  {
   "cell_type": "code",
   "execution_count": null,
   "metadata": {},
   "outputs": [],
   "source": [
    "def fill_sentiment(model, author: Position) -> Position:\n",
    "    sentiment = [model(chunk)[0] for chunk in author.chunked]\n",
    "    result = {}\n",
    "    for item in sentiment:\n",
    "        for entry in item:\n",
    "            # Get the label and the score\n",
    "            label = entry[\"label\"]\n",
    "            score = round(entry[\"score\"], 4)  # Round the score to 4 decimal places\n",
    "\n",
    "            # Append the score to the corresponding list in the dictionary\n",
    "            if label not in result:\n",
    "                result[label] = (\n",
    "                    []\n",
    "                )  # Initialize a list if the label is not in the dictionary\n",
    "            result[label].append(score)\n",
    "    author.sentiment = result\n",
    "    return author\n",
    "\n",
    "\n",
    "for key, item in tqdm(datadict.items(), total=len(datadict)):\n",
    "    try:\n",
    "        datadict[key] = fill_sentiment(model, item)\n",
    "    except Exception as e:\n",
    "        logger.warning(f\"Failed to process message {key}\")\n",
    "        logger.warning(f\"Error: {e}\")"
   ]
  },
  {
   "cell_type": "code",
   "execution_count": null,
   "metadata": {},
   "outputs": [],
   "source": [
    "# calculate collective positive average\n",
    "total = []\n",
    "for item in datadict.values():\n",
    "    total.extend(item.sentiment[\"positive\"])\n",
    "avg = np.mean(total)"
   ]
  },
  {
   "cell_type": "code",
   "execution_count": null,
   "metadata": {},
   "outputs": [],
   "source": [
    "long_format = []\n",
    "mood = \"negative\"\n",
    "for key, item in datadict.items():\n",
    "    # only keep authors with more than 10 chunks of data\n",
    "    if len(item.sentiment[mood]) < 5:\n",
    "        continue\n",
    "    for val in item.sentiment[mood]:\n",
    "        long_format.append({\"name\": key, mood: val})\n",
    "long_df = pd.DataFrame(long_format).sort_values(by=mood, ascending=False)\n",
    "long_df.head()\n",
    "sns.stripplot(x=\"name\", y=mood, data=long_df, jitter=True, alpha=0.5)\n",
    "plt.axhline(avg, color=\"red\", linestyle=\"--\")\n",
    "plt.xticks(rotation=90, ha=\"center\")\n",
    "plt.title(f\"Sentiment Analysis: {mood} sentiment\")"
   ]
  }
 ],
 "metadata": {
  "kernelspec": {
   "display_name": ".venv",
   "language": "python",
   "name": "python3"
  },
  "language_info": {
   "codemirror_mode": {
    "name": "ipython",
    "version": 3
   },
   "file_extension": ".py",
   "mimetype": "text/x-python",
   "name": "python",
   "nbconvert_exporter": "python",
   "pygments_lexer": "ipython3",
   "version": "3.12.8"
  }
 },
 "nbformat": 4,
 "nbformat_minor": 2
}
