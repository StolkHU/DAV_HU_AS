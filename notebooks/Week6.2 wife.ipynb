{
 "cells": [
  {
   "cell_type": "markdown",
   "metadata": {},
   "source": [
    "Start"
   ]
  },
  {
   "cell_type": "code",
   "execution_count": null,
   "metadata": {},
   "outputs": [],
   "source": [
    "import torch\n",
    "import seaborn as sns\n",
    "import matplotlib.pyplot as plt\n",
    "from pathlib import Path\n",
    "import pandas as pd\n",
    "import numpy as np\n",
    "from tqdm import tqdm\n",
    "from loguru import logger"
   ]
  },
  {
   "cell_type": "code",
   "execution_count": null,
   "metadata": {},
   "outputs": [],
   "source": [
    "tag = \"nlptown/bert-base-multilingual-uncased-sentiment\""
   ]
  },
  {
   "cell_type": "code",
   "execution_count": null,
   "metadata": {},
   "outputs": [],
   "source": [
    "from transformers import pipeline\n",
    "\n",
    "# models are downloaded to ~/.cache/huggingface/hub.\n",
    "# you might want to clean up that location after you are done with the models\n",
    "model = pipeline(\n",
    "    model=\"lxyuan/distilbert-base-multilingual-cased-sentiments-student\",\n",
    "    top_k=None,\n",
    "    truncation=True,  # Truncate long inputs automatically\n",
    "    max_length=512,\n",
    ")\n",
    "\n",
    "# english\n",
    "model(\"I love this movie and i would watch it again and again!\")"
   ]
  },
  {
   "cell_type": "code",
   "execution_count": null,
   "metadata": {},
   "outputs": [],
   "source": [
    "import tomllib\n",
    "\n",
    "configfile = Path(\"../config.toml\").resolve()\n",
    "with configfile.open(\"rb\") as f:\n",
    "    config = tomllib.load(f)\n",
    "datafile = (Path(\"..\") / Path(config[\"processed\"]) / config[\"wife_file\"]).resolve()\n",
    "if not datafile.exists():\n",
    "    logger.warning(\n",
    "        \"Datafile does not exist. First run src/preprocess.py, and check the timestamp!\"\n",
    "    )\n",
    "df = pd.read_parquet(datafile)\n",
    "df = df.fillna(\"\")\n",
    "df = df[df['timestamp'] >= '2023-01-01']\n",
    "df.head()"
   ]
  },
  {
   "cell_type": "code",
   "execution_count": null,
   "metadata": {},
   "outputs": [],
   "source": [
    "from dataclasses import dataclass\n",
    "\n",
    "\n",
    "@dataclass\n",
    "class Position:\n",
    "    name: str\n",
    "    alltext: str\n",
    "    chunked: list[str]\n",
    "    sentiment: dict = None\n",
    "\n",
    "\n",
    "# extract the data from the dataframe\n",
    "datadict = {}\n",
    "for i, row in tqdm(df.iterrows(), total=len(df)):\n",
    "    position = row[\"author\"]\n",
    "    message = row[\"message\"]\n",
    "    if position not in datadict:\n",
    "        datadict[position] = Position(name=position, alltext=message, chunked=[])\n",
    "    else:\n",
    "        datadict[position].alltext += message\n",
    "\n",
    "\n",
    "def split_into_chunks(text, chunk_size=512):\n",
    "    # Split the text into words\n",
    "    words = text.split()\n",
    "    # Create chunks of the specified size\n",
    "    chunks = [\n",
    "        \" \".join(words[i : i + chunk_size]) for i in range(0, len(words), chunk_size)\n",
    "    ]\n",
    "    return chunks\n",
    "\n",
    "\n",
    "# For every author, try to split their text into chunks of 512 tokens\n",
    "for author in datadict:\n",
    "    # Get the combined text for the author\n",
    "    text = datadict[author].alltext\n",
    "    # Split the text into chunks\n",
    "    # we want 512 tokens, so lets guess about 50%\n",
    "    datadict[author].chunked = split_into_chunks(text, chunk_size=512)"
   ]
  },
  {
   "cell_type": "code",
   "execution_count": null,
   "metadata": {},
   "outputs": [],
   "source": [
    "def fill_sentiment(model, author: Position) -> Position:\n",
    "    sentiment = [model(chunk)[0] for chunk in author.chunked]\n",
    "    result = {}\n",
    "    for item in sentiment:\n",
    "        for entry in item:\n",
    "            # Get the label and the score\n",
    "            label = entry[\"label\"]\n",
    "            score = round(entry[\"score\"], 4)  # Round the score to 4 decimal places\n",
    "\n",
    "            # Append the score to the corresponding list in the dictionary\n",
    "            if label not in result:\n",
    "                result[label] = (\n",
    "                    []\n",
    "                )  # Initialize a list if the label is not in the dictionary\n",
    "            result[label].append(score)\n",
    "    author.sentiment = result\n",
    "    return author\n",
    "\n",
    "\n",
    "for key, item in tqdm(datadict.items(), total=len(datadict)):\n",
    "    try:\n",
    "        datadict[key] = fill_sentiment(model, item)\n",
    "    except Exception as e:\n",
    "        logger.warning(f\"Failed to process message {key}\")\n",
    "        logger.warning(f\"Error: {e}\")"
   ]
  },
  {
   "cell_type": "code",
   "execution_count": null,
   "metadata": {},
   "outputs": [],
   "source": [
    "# calculate collective positive average\n",
    "total = []\n",
    "for item in datadict.values():\n",
    "    total.extend(item.sentiment[\"positive\"])\n",
    "avg = np.mean(total)"
   ]
  },
  {
   "cell_type": "code",
   "execution_count": null,
   "metadata": {},
   "outputs": [],
   "source": [
    "long_format = []\n",
    "mood = \"negative\"\n",
    "for key, item in datadict.items():\n",
    "    # only keep authors with more than 10 chunks of data\n",
    "    if len(item.sentiment[mood]) < 5:\n",
    "        continue\n",
    "    for val in item.sentiment[mood]:\n",
    "        long_format.append({\"name\": key, mood: val})\n",
    "long_df = pd.DataFrame(long_format).sort_values(by=mood, ascending=False)\n",
    "long_df.head()\n",
    "sns.stripplot(x=\"name\", y=mood, data=long_df, jitter=True, alpha=0.5)\n",
    "plt.axhline(avg, color=\"red\", linestyle=\"--\")\n",
    "plt.xticks(rotation=90, ha=\"center\")\n",
    "plt.title(f\"Sentiment Analysis: {mood} sentiment\")"
   ]
  },
  {
   "cell_type": "code",
   "execution_count": null,
   "metadata": {},
   "outputs": [],
   "source": [
    "def agg(x):\n",
    "    return (\n",
    "        len(x.sentiment[\"positive\"]),\n",
    "        np.mean(x.sentiment[\"positive\"]),\n",
    "        np.median(x.sentiment[\"positive\"]),\n",
    "        np.std(x.sentiment[\"positive\"]),\n",
    "        np.mean(x.sentiment[\"negative\"]),\n",
    "        np.median(x.sentiment[\"negative\"]),\n",
    "        np.std(x.sentiment[\"negative\"]),\n",
    "    )\n",
    "\n",
    "\n",
    "aggregated = [((item.name,) + agg(item)) for item in datadict.values()]"
   ]
  },
  {
   "cell_type": "code",
   "execution_count": null,
   "metadata": {},
   "outputs": [],
   "source": [
    "df_sentiment = pd.DataFrame(\n",
    "    aggregated,\n",
    "    columns=[\n",
    "        \"author\",\n",
    "        \"count\",\n",
    "        \"mean_pos\",\n",
    "        \"median_pos\",\n",
    "        \"std_pos\",\n",
    "        \"mean_neg\",\n",
    "        \"median_neg\",\n",
    "        \"std_neg\",\n",
    "    ],\n",
    ")\n",
    "df_sentiment.head()"
   ]
  },
  {
   "cell_type": "code",
   "execution_count": null,
   "metadata": {},
   "outputs": [],
   "source": [
    "key = \"_pos\"\n",
    "min_count = 2\n",
    "df_filtered = df_sentiment[df_sentiment[\"count\"] > min_count].sort_values(\n",
    "    \"mean\" + key, ascending=False\n",
    ")\n",
    "plt.figure(figsize=(10, 6))\n",
    "sns.set(style=\"whitegrid\")\n",
    "\n",
    "# Plotting for mean_pos\n",
    "sns.pointplot(\n",
    "    data=df_filtered,\n",
    "    x=\"author\",\n",
    "    y=\"mean\" + key,\n",
    "    linestyle=\"none\",\n",
    "    capsize=0.2,\n",
    "    err_kws={\"linewidth\": 1},\n",
    "    errorbar=None,\n",
    "    color=\"blue\",\n",
    ")\n",
    "\n",
    "plt.errorbar(\n",
    "    x=df_filtered[\"author\"],\n",
    "    y=df_filtered[\"mean\" + key],\n",
    "    yerr=df_filtered[\"std\" + key] * 2,\n",
    "    fmt=\"o\",\n",
    "    color=\"blue\",\n",
    "    ecolor=\"blue\",\n",
    "    elinewidth=1,\n",
    "    capsize=4,\n",
    "    label=f\"{key} Mean with Error Bars\",\n",
    ")\n",
    "plt.axhline(y=0.5, color=\"red\", linestyle=\"--\", linewidth=1)\n",
    "plt.xticks(rotation=45, ha=\"right\");  # 'ha' stands for horizontal alignment"
   ]
  },
  {
   "cell_type": "code",
   "execution_count": null,
   "metadata": {},
   "outputs": [],
   "source": [
    "from sentence_transformers import SentenceTransformer\n",
    "\n",
    "sentences = [\"This is an example sentence\", \"Each sentence is converted\"]\n",
    "\n",
    "model = SentenceTransformer(\"sentence-transformers/all-MiniLM-L6-v2\")\n",
    "embeddings = model.encode(sentences)\n",
    "print(f\"Embedding shape: {embeddings.shape}\")"
   ]
  },
  {
   "cell_type": "code",
   "execution_count": null,
   "metadata": {},
   "outputs": [],
   "source": [
    "df[\"message_length\"] = df[\"message\"].str.len()\n",
    "sns.histplot(x=np.log(df[\"message_length\"]))"
   ]
  },
  {
   "cell_type": "code",
   "execution_count": null,
   "metadata": {},
   "outputs": [],
   "source": [
    "subset = df[np.log(df[\"message_length\"]) > 3].reset_index(drop=True)\n",
    "subset"
   ]
  },
  {
   "cell_type": "code",
   "execution_count": null,
   "metadata": {},
   "outputs": [],
   "source": [
    "from dataclasses import dataclass\n",
    "import numpy as np\n",
    "\n",
    "\n",
    "@dataclass\n",
    "class Embedding:\n",
    "    metadata: list\n",
    "    vectors: np.ndarray\n",
    "\n",
    "    def __getitem__(self, idx: int) -> tuple:\n",
    "        return (self.vectors[idx], self.metadata[idx])\n",
    "\n",
    "    def __len__(self) -> int:\n",
    "        return len(self.metadata)\n",
    "\n",
    "    def __repr__(self) -> str:\n",
    "        return f\"Embedding, dims={self.vectors.shape}\""
   ]
  },
  {
   "cell_type": "code",
   "execution_count": null,
   "metadata": {},
   "outputs": [],
   "source": [
    "from tqdm import tqdm\n",
    "\n",
    "metadata = {}\n",
    "text = []\n",
    "for idx, row in tqdm(subset.iterrows(), total=len(subset)):\n",
    "    author = row[\"author\"]\n",
    "    message = row[\"message\"]\n",
    "    timestamp = row[\"timestamp\"]\n",
    "    metadata[idx] = {\"author\": author, \"message\": message, \"timestamp\": timestamp}\n",
    "    text.append(message)"
   ]
  },
  {
   "cell_type": "code",
   "execution_count": null,
   "metadata": {},
   "outputs": [],
   "source": [
    "vectors = model.encode(text)\n",
    "vectors.shape"
   ]
  },
  {
   "cell_type": "code",
   "execution_count": null,
   "metadata": {},
   "outputs": [],
   "source": [
    "emb = Embedding(metadata, vectors)\n",
    "emb"
   ]
  },
  {
   "cell_type": "code",
   "execution_count": null,
   "metadata": {},
   "outputs": [],
   "source": [
    "X, y = emb[1]\n",
    "X.shape, y"
   ]
  },
  {
   "cell_type": "code",
   "execution_count": null,
   "metadata": {},
   "outputs": [],
   "source": [
    "from sklearn.decomposition import PCA\n",
    "\n",
    "pca = PCA(n_components=2)\n",
    "X = pca.fit_transform(emb.vectors)\n",
    "plt.figure(figsize=(10, 10))\n",
    "labels = [emb.metadata[i][\"author\"] for i in range(len(emb.metadata))]\n",
    "sns.scatterplot(x=X[:, 0], y=X[:, 1], hue=labels)\n",
    "plt.legend(title=\"Author\", bbox_to_anchor=(1.05, 1), loc=\"upper left\")"
   ]
  },
  {
   "cell_type": "code",
   "execution_count": null,
   "metadata": {},
   "outputs": [],
   "source": [
    "from sklearn.manifold import TSNE\n",
    "\n",
    "tsne = TSNE(n_components=2)\n",
    "X = tsne.fit_transform(emb.vectors)\n",
    "plt.figure(figsize=(10, 10))\n",
    "labels = [emb.metadata[i][\"author\"] for i in range(len(emb.metadata))]\n",
    "sns.scatterplot(x=X[:, 0], y=X[:, 1], hue=labels)\n",
    "plt.legend(title=\"Author\", bbox_to_anchor=(1.05, 1), loc=\"upper left\")"
   ]
  }
 ],
 "metadata": {
  "kernelspec": {
   "display_name": ".venv",
   "language": "python",
   "name": "python3"
  },
  "language_info": {
   "codemirror_mode": {
    "name": "ipython",
    "version": 3
   },
   "file_extension": ".py",
   "mimetype": "text/x-python",
   "name": "python",
   "nbconvert_exporter": "python",
   "pygments_lexer": "ipython3",
   "version": "3.12.8"
  }
 },
 "nbformat": 4,
 "nbformat_minor": 2
}
