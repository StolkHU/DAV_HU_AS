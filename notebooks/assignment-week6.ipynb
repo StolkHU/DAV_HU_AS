{
 "cells": [
  {
   "cell_type": "markdown",
   "metadata": {},
   "source": [
    "Start"
   ]
  },
  {
   "cell_type": "code",
   "execution_count": null,
   "metadata": {},
   "outputs": [],
   "source": [
    "import requests\n",
    "from pathlib import Path\n",
    "import pandas as pd\n",
    "import seaborn as sns\n",
    "from loguru import logger\n",
    "import numpy as np\n"
   ]
  },
  {
   "cell_type": "code",
   "execution_count": null,
   "metadata": {},
   "outputs": [],
   "source": [
    "import tomllib\n",
    "\n",
    "configfile = Path(\"../config.toml\").resolve()\n",
    "with configfile.open(\"rb\") as f:\n",
    "    config = tomllib.load(f)\n",
    "datafile = (Path(\"..\") / Path(config[\"processed\"]) / config[\"current\"]).resolve()\n",
    "if not datafile.exists():\n",
    "    logger.warning(\n",
    "        \"Datafile does not exist. First run src/preprocess.py, and check the timestamp!\"\n",
    "    )\n",
    "wa_df = pd.read_parquet(datafile)\n",
    "wa_df = wa_df.groupby('author').filter(lambda x: len(x) > 50)\n",
    "\n",
    "author_message_count = wa_df['author'].value_counts()\n",
    "# print(author_message_count)\n",
    "distinct_authors_count = wa_df['author'].nunique()\n",
    "print(distinct_authors_count)\n",
    "\n",
    "wa_df.head()"
   ]
  },
  {
   "cell_type": "code",
   "execution_count": null,
   "metadata": {},
   "outputs": [],
   "source": [
    "root = Path(\"..\").resolve()\n",
    "processed = root / Path(config[\"processed\"])\n",
    "raw = root / Path(config[\"raw\"])\n",
    "datafile = processed / config[\"current\"]\n",
    "role_file = raw / config[\"role_file\"]\n",
    "player_roles = pd.read_json(role_file, encoding = \"latin\")\n",
    "player_roles.head()"
   ]
  },
  {
   "cell_type": "code",
   "execution_count": null,
   "metadata": {},
   "outputs": [],
   "source": [
    "player_roles = pd.read_json(role_file, encoding = \"latin\")\n",
    "player_roles.head()"
   ]
  },
  {
   "cell_type": "code",
   "execution_count": null,
   "metadata": {},
   "outputs": [],
   "source": [
    "merged_df = pd.merge(wa_df, player_roles, left_on='author', right_on='Author')\n",
    "merged_df = merged_df.drop(columns=['Author'])\n",
    "merged_df.head()"
   ]
  },
  {
   "cell_type": "code",
   "execution_count": null,
   "metadata": {},
   "outputs": [],
   "source": [
    "authors = list(np.unique(wa_df.author))\n",
    "print(authors)"
   ]
  },
  {
   "cell_type": "code",
   "execution_count": null,
   "metadata": {},
   "outputs": [],
   "source": [
    "n = 500\n",
    "min_parts = 2\n",
    "\n",
    "corpus = {}\n",
    "for author in authors:\n",
    "    subset = wa_df[wa_df.author == author].reset_index()\n",
    "    longseq = \" \".join(subset.message)\n",
    "    # chunk everything into n-sized parts\n",
    "    parts = [longseq[i : i + n] for i in range(0, len(longseq), n)]\n",
    "    # keep only parts with more than min_parts\n",
    "    if len(parts) > min_parts:\n",
    "        corpus[author] = parts\n",
    "corpus.keys()"
   ]
  },
  {
   "cell_type": "code",
   "execution_count": null,
   "metadata": {},
   "outputs": [],
   "source": [
    "# import matplotlib.pyplot as plt\n",
    "\n",
    "# text = [part for text in corpus.values() for part in text]\n",
    "# wa_labels = [k for k, v in corpus.items() for _ in range(len(v))]\n",
    "# # we set batch to false, because we already batched the data\n",
    "# # clustering(text=text, k=200, labels=wa_labels, batch=False, method=\"tSNE\")\n",
    "# plt.legend(title=\"Position\", bbox_to_anchor=(1.05, 1), loc=\"upper left\")\n",
    "# plt.xticks([])\n",
    "# # plt.yticks([])\n",
    "# plt.title(\"Distinct authors in the WhatsApp dataset\")"
   ]
  }
 ],
 "metadata": {
  "kernelspec": {
   "display_name": ".venv",
   "language": "python",
   "name": "python3"
  },
  "language_info": {
   "codemirror_mode": {
    "name": "ipython",
    "version": 3
   },
   "file_extension": ".py",
   "mimetype": "text/x-python",
   "name": "python",
   "nbconvert_exporter": "python",
   "pygments_lexer": "ipython3",
   "version": "3.12.8"
  }
 },
 "nbformat": 4,
 "nbformat_minor": 2
}
