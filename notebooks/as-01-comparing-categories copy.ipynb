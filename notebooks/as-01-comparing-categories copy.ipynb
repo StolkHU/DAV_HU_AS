{
 "cells": [
  {
   "cell_type": "markdown",
   "metadata": {},
   "source": [
    "### Let\"s create a visualisation for the groupschat of a field hockey team :)"
   ]
  },
  {
   "cell_type": "markdown",
   "metadata": {},
   "source": [
    "Import the used packages."
   ]
  },
  {
   "cell_type": "code",
   "execution_count": null,
   "metadata": {},
   "outputs": [],
   "source": [
    "from pathlib import Path\n",
    "from loguru import logger\n",
    "import pandas as pd\n",
    "import seaborn as sns\n",
    "import matplotlib.pyplot as plt\n",
    "import tomllib\n",
    "import numpy as np\n",
    "import openpyxl"
   ]
  },
  {
   "cell_type": "markdown",
   "metadata": {},
   "source": [
    "Use the same way as the notebook in the course folder to get the data."
   ]
  },
  {
   "cell_type": "code",
   "execution_count": null,
   "metadata": {},
   "outputs": [],
   "source": [
    "configfile = Path(\"../config.toml\").resolve()\n",
    "with configfile.open(\"rb\") as f:\n",
    "    config = tomllib.load(f)\n",
    "config"
   ]
  },
  {
   "cell_type": "code",
   "execution_count": null,
   "metadata": {},
   "outputs": [],
   "source": [
    "root = Path(\"..\").resolve()\n",
    "processed = root / Path(config[\"processed\"])\n",
    "raw = root / Path(config[\"raw\"])\n",
    "datafile = processed / config[\"current\"]\n",
    "role_file = raw / config[\"role_file\"]\n"
   ]
  },
  {
   "cell_type": "code",
   "execution_count": null,
   "metadata": {},
   "outputs": [],
   "source": [
    "merged_df = pd.read_parquet(datafile)\n",
    "player_roles = pd.read_json(role_file, encoding = \"latin\")\n",
    "# player_roles.head()\n",
    "merged_df = pd.merge(merged_df, player_roles, left_on='author', right_on='Author')\n",
    "merged_df[\"has_image\"] = merged_df[\"message\"].str.contains(\"<Media weggela\").astype(int)\n",
    "merged_df[\"has_poll\"] = merged_df[\"message\"].str.contains(\"PEILING\").astype(int)\n",
    "merged_df.head()\n",
    "merged_df.dtypes\n"
   ]
  },
  {
   "cell_type": "code",
   "execution_count": null,
   "metadata": {},
   "outputs": [],
   "source": [
    "# Count the number of messages per category (Position)\n",
    "message_counts = merged_df['Position'].value_counts()\n",
    "\n",
    "# Maak een boxplot visualisatie per position voor de message_length van de berichten\n",
    "plt.figure(figsize=(12, 8))\n",
    "boxprops = dict(linestyle='-', linewidth=2)\n",
    "medianprops = dict(linestyle='-', linewidth=2)\n",
    "flierprops = dict(marker='o', color='red', markersize=5)\n",
    "merged_df.boxplot(column='message_length', by='Position', boxprops=boxprops, medianprops=medianprops, flierprops=flierprops, showfliers=False)\n",
    "plt.title('Boxplot of Message Length by Position')\n",
    "plt.suptitle('')\n",
    "plt.xlabel('Position')\n",
    "plt.ylabel('Message Length')\n",
    "plt.grid(False)\n",
    "\n",
    "# Add message counts below the plot\n",
    "plt.figtext(0.5, -0.05, f'Message Counts per Position:\\\\n{message_counts.to_string()}', ha='center')\n",
    "\n",
    "plt.show()"
   ]
  },
  {
   "cell_type": "code",
   "execution_count": null,
   "metadata": {},
   "outputs": [],
   "source": [
    "# Maak een boxplot visualisatie per position voor de message_length van de berichten\n",
    "plt.figure(figsize=(10, 6))\n",
    "merged_df.boxplot(column='message_length', by='Position')\n",
    "plt.title('Boxplot of Message Length by Position')\n",
    "plt.suptitle('')\n",
    "plt.xlabel('Position')\n",
    "plt.ylabel('Message Length')\n",
    "plt.show()"
   ]
  },
  {
   "cell_type": "code",
   "execution_count": null,
   "metadata": {},
   "outputs": [],
   "source": [
    "merged_df[\"day_of_month\"] = merged_df[\"timestamp\"].dt.day\n",
    "merged_df[\"day\"] = merged_df[\"timestamp\"].dt.day_name()\n",
    "merged_df[\"month_number\"] = merged_df[\"timestamp\"].dt.month\n",
    "merged_df[\"month_name\"] = merged_df[\"timestamp\"].dt.month_name()\n",
    "merged_df[\"year\"] = merged_df[\"timestamp\"].dt.year\n",
    "merged_df[\"has_image\"] = merged_df[\"message\"].str.contains(\"<Media weggelaten>\").astype(int)\n",
    "merged_df.head()"
   ]
  },
  {
   "cell_type": "markdown",
   "metadata": {},
   "source": [
    "Maak visualisatie van de gemiddelde lengte van de berichten afhangende van de functie"
   ]
  },
  {
   "cell_type": "code",
   "execution_count": null,
   "metadata": {},
   "outputs": [],
   "source": [
    "merged_df[\"message_length\"] = merged_df[\"message\"].str.len()\n",
    "player_message_count = merged_df[merged_df['Function'] == 'Player'].count()['message']\n",
    "staff_message_count = merged_df[merged_df['Function'] == 'Staff'].count()['message']\n",
    "\n",
    "p1 = (\n",
    "    merged_df[[\"Function\", \"message_length\"]]\n",
    "    .groupby(\"Function\")\n",
    "    .mean()\n",
    "    .sort_values(\"message_length\", ascending=False)\n",
    ")\n",
    "\n",
    "sns.barplot(x=p1.index, y=p1[\"message_length\"], palette = [\"red\", \"lightgrey\"]  )\n",
    "for i, v in enumerate(p1[\"message_length\"]):\n",
    "    plt.text(i, v*0.98, f'{v:.1f}', ha='center', va='top', fontsize=12)\n",
    "plt.xlabel(\"Function within team\")\n",
    "plt.ylabel(\"Average Message length\")\n",
    "plt.title(\"Staff members sending longer messages\")\n",
    "\n",
    "\n",
    "plt.figtext(0.05, -0.05, f\"Gebaseerd op {player_message_count:,}\".replace(',', '.') + f\" berichten van de players en {staff_message_count:,}\".replace(',', '.') +f\" berichten van de staff.\", \n",
    "            ha='left', va='center', fontsize=8, fontstyle= \"italic\")\n",
    "\n",
    "plt.tight_layout() \n",
    "plt.subplots_adjust(bottom=0.1) "
   ]
  },
  {
   "cell_type": "markdown",
   "metadata": {},
   "source": [
    "Show number of messages per year."
   ]
  },
  {
   "cell_type": "code",
   "execution_count": null,
   "metadata": {},
   "outputs": [],
   "source": [
    "no_of_messages = (\n",
    "    merged_df[[\"Function\", \"message\", \"has_image\"]]\n",
    "    .groupby(\"Function\")\n",
    "    .agg(\n",
    "        no_of_messages=(\"message\",\"count\"),\n",
    "        no_of_images=(\"has_image\", \"sum\")\n",
    "    )\n",
    "    .sort_values(\"Function\", ascending=True)\n",
    ")\n",
    "no_of_messages[ \"percentage_with_images\"] = (no_of_messages['no_of_images'] / no_of_messages['no_of_messages'] * 100)\n",
    "\n",
    "no_of_messages"
   ]
  },
  {
   "cell_type": "markdown",
   "metadata": {},
   "source": [
    "Count the number of messages per day and group them."
   ]
  },
  {
   "cell_type": "code",
   "execution_count": null,
   "metadata": {},
   "outputs": [],
   "source": [
    "month_day_count = merged_df.groupby([\"month_name\", \"month_number\", \"day_of_month\"]).size().unstack(fill_value = 0)\n",
    "year_month_day_count = merged_df.groupby([\"year\", \"month_name\", \"month_number\", \"day_of_month\"]).size().unstack(fill_value = 0)\n",
    "month_day_count.head()\n",
    "year_month_day_count.head()\n",
    "# average_per_day = month_day_count.mean(axis=0)"
   ]
  },
  {
   "cell_type": "code",
   "execution_count": null,
   "metadata": {},
   "outputs": [],
   "source": [
    "years = year_month_day_count.index.get_level_values(\"year\").unique()\n",
    "\n",
    "for year in years:\n",
    "    data_for_year = year_month_day_count.loc[year]\n",
    "    \n",
    "    plt.figure(figsize=(12, 8))\n",
    "    sns.heatmap(data_for_year, cmap=\"YlGnBu\", annot=True, fmt=\"d\")\n",
    "    plt.title(f\"Heatmap van tellingen voor jaar {year}\")\n",
    "    plt.xlabel(\"Dag van de maand\")\n",
    "    plt.ylabel(\"Maand\")\n",
    "    plt.show()"
   ]
  },
  {
   "cell_type": "code",
   "execution_count": null,
   "metadata": {},
   "outputs": [],
   "source": [
    "plt.figure(figsize=(16,10))\n",
    "sns.heatmap(month_day_count, annot=True, fmt=\"d\", linewidths=0.5, cmap=\"GnBu\")\n",
    "plt.xticks(\n",
    "    ticks=range(31),\n",
    "    labels=range(1, 32)\n",
    ")\n",
    "\n",
    "plt.yticks(\n",
    "    ticks=range(12),\n",
    "    labels=[\"January\", \"February\", \"March\", \"April\", \"May\", \"June\", \"July\", \"August\", \"September\", \"October\", \"November\", \"December\"],\n",
    "    rotation=0\n",
    ")\n",
    "\n",
    "plt.title(\"Heatmap van verzonden berichten per dag per maand\")\n",
    "plt.xlabel(\"Dag van de maand\")\n",
    "plt.ylabel(\"Maand\")\n",
    "plt.show()"
   ]
  },
  {
   "cell_type": "code",
   "execution_count": null,
   "metadata": {},
   "outputs": [],
   "source": []
  }
 ],
 "metadata": {
  "kernelspec": {
   "display_name": ".venv",
   "language": "python",
   "name": "python3"
  },
  "language_info": {
   "codemirror_mode": {
    "name": "ipython",
    "version": 3
   },
   "file_extension": ".py",
   "mimetype": "text/x-python",
   "name": "python",
   "nbconvert_exporter": "python",
   "pygments_lexer": "ipython3",
   "version": "3.12.8"
  }
 },
 "nbformat": 4,
 "nbformat_minor": 2
}
