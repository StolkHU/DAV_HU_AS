{
 "cells": [
  {
   "cell_type": "markdown",
   "metadata": {},
   "source": [
    "### Let\"s create a visualisation for the groupschat of a field hockey team :)"
   ]
  },
  {
   "cell_type": "markdown",
   "metadata": {},
   "source": [
    "Import the used packages."
   ]
  },
  {
   "cell_type": "code",
   "execution_count": null,
   "metadata": {},
   "outputs": [],
   "source": [
    "from pathlib import Path\n",
    "from loguru import logger\n",
    "import pandas as pd\n",
    "import seaborn as sns\n",
    "import matplotlib.pyplot as plt\n",
    "import tomllib\n",
    "import numpy as np\n",
    "import openpyxl"
   ]
  },
  {
   "cell_type": "markdown",
   "metadata": {},
   "source": [
    "Use the same way as the notebook in the course folder to get the data."
   ]
  },
  {
   "cell_type": "code",
   "execution_count": null,
   "metadata": {},
   "outputs": [],
   "source": [
    "configfile = Path(\"../config.toml\").resolve()\n",
    "with configfile.open(\"rb\") as f:\n",
    "    config = tomllib.load(f)\n",
    "config"
   ]
  },
  {
   "cell_type": "code",
   "execution_count": null,
   "metadata": {},
   "outputs": [],
   "source": [
    "root = Path(\"..\").resolve()\n",
    "processed = root / Path(config[\"processed\"])\n",
    "raw = root / Path(config[\"raw\"])\n",
    "wife_file = processed / config[\"wife_file\"]\n"
   ]
  },
  {
   "cell_type": "code",
   "execution_count": null,
   "metadata": {},
   "outputs": [],
   "source": [
    "wife_df = pd.read_parquet(wife_file)\n",
    "wife_df[\"has_image\"] = wife_df[\"message\"].fillna(\"\").str.contains(\"<Media weggela\").astype(int)\n",
    "wife_df.head()"
   ]
  },
  {
   "cell_type": "markdown",
   "metadata": {},
   "source": [
    "Aantal berichten per maand visualiseren."
   ]
  },
  {
   "cell_type": "code",
   "execution_count": null,
   "metadata": {},
   "outputs": [],
   "source": [
    "filtered_emoji_df = wife_df[wife_df[\"has_emoji\"] == True]\n",
    "filtered_images_df = wife_df[wife_df[\"has_image\"] == 1]\n",
    "\n",
    "emojis_mean = wife_df.groupby(wife_df[\"timestamp\"].dt.to_period(\"M\"))[\"has_emoji\"].mean()\n",
    "photo_mean = wife_df.groupby(wife_df[\"timestamp\"].dt.to_period(\"M\"))[\"has_image\"].mean()\n",
    "\n",
    "plt.figure(figsize=(20, 6))\n",
    "ax = plt.gca()\n",
    "\n",
    "photo_mean.plot(kind=\"line\", ax=ax)\n",
    "highlight_date = pd.Timestamp(\"2024-06-07\")\n",
    "highlight_value = photo_mean.loc[highlight_date.to_period(\"M\")]\n",
    "ax.annotate('Huwelijk', xy=(highlight_date, highlight_value), xytext=(highlight_date, highlight_value),\n",
    "            arrowprops=dict(facecolor='black', shrink=0.05))\n",
    "\n",
    "highlight_date = pd.Timestamp(\"2022-11-17\")\n",
    "highlight_value = photo_mean.loc[highlight_date.to_period(\"M\")]\n",
    "ax.annotate('Geboorte Dochter', xy=(highlight_date, highlight_value), xytext=(highlight_date, highlight_value),\n",
    "            arrowprops=dict(facecolor='black', shrink=0.05))\n",
    "\n",
    "# Schaduw elke november grijs\n",
    "for year in wife_df[\"timestamp\"].dt.year.unique():\n",
    "    ax.axvspan(pd.Timestamp(f\"{year}-11-01\"), pd.Timestamp(f\"{year}-11-30\"), color='gray', alpha=0.3)\n",
    "\n",
    "plt.title(\"Aantal berichten per maand\")\n",
    "plt.xlabel(\"Maand\")\n",
    "plt.ylabel(\"Aantal berichten\")\n",
    "plt.show()"
   ]
  },
  {
   "cell_type": "code",
   "execution_count": null,
   "metadata": {},
   "outputs": [],
   "source": [
    "photos_percentage_per_month = wife_df.groupby(wife_df[\"timestamp\"].dt.to_period(\"Q\"))[\"has_image\"].mean() * 100\n",
    "dates = wife_df['timestamp'].dt.date\n",
    "min_date = dates.min()\n",
    "max_date = dates.max()\n",
    "number_of_days = (max_date - min_date).days\n",
    "average = len(wife_df) / number_of_days\n",
    "\n",
    "plt.figure(figsize=(20, 10))\n",
    "ax = plt.gca()\n",
    "ax.yaxis.set_major_formatter(plt.FuncFormatter(lambda x, _: f'{x:.0f}%'))\n",
    "\n",
    "\n",
    "colors = ['hotpink' if period >= pd.Period('2022-Q3', freq='Q') else 'silver' for period in photos_percentage_per_month.index]\n",
    "photos_percentage_per_month.plot(kind=\"bar\", ax=ax, color=colors)\n",
    "for p in ax.patches:\n",
    "    ax.annotate(f'{p.get_height():.1f}%', (p.get_x() + p.get_width() / 2., p.get_height()), ha='center', va='center', xytext=(0, 10), textcoords='offset points')\n",
    "plt.suptitle('\" Photoboom \"', size=30, fontweight = 'bold' )\n",
    "plt.title('The percentage of photos increased drastically after the birth of our daughter', fontstyle='italic', pad = 25)\n",
    "plt.xlabel(\"\")\n",
    "plt.xticks(rotation=0)\n",
    "plt.figtext(0.1, 0.05, f'Gebaseerd op {wife_df.shape[0]:,}'.replace(',','.') + f' berichten tussen {min_date.strftime(\"%d-%m-%Y\")} en {max_date.strftime(\"%d-%m-%Y\")}.'  )\n",
    "plt.show()"
   ]
  },
  {
   "cell_type": "code",
   "execution_count": null,
   "metadata": {},
   "outputs": [],
   "source": [
    "# Groeperen per periode en Author\n",
    "photos_percentage_per_month = wife_df.groupby([wife_df[\"timestamp\"].dt.to_period(\"Q\"), \"author\"])[\"has_image\"].mean() * 100\n",
    "\n",
    "sudsy_mole_df = wife_df[wife_df[\"author\"] == \"sudsy-mole\"]\n",
    "photos_percentage_per_man = sudsy_mole_df.groupby(sudsy_mole_df[\"timestamp\"].dt.to_period(\"Q\"))[\"has_image\"].mean() * 100\n",
    "\n",
    "kaleidoscopic_ferret_df = wife_df[wife_df[\"author\"] == \"kaleidoscopic-ferret\"]\n",
    "photos_percentage_per_wife = kaleidoscopic_ferret_df.groupby(kaleidoscopic_ferret_df[\"timestamp\"].dt.to_period(\"Q\"))[\"has_image\"].mean() * 100\n",
    "\n",
    "# Converteer naar een DataFrame met Author als kolommen en de periodes als index\n",
    "photos_percentage_per_month = photos_percentage_per_month.unstack(fill_value=0)\n",
    "\n",
    "# Bereken de datums en statistieken\n",
    "dates = wife_df['timestamp'].dt.date\n",
    "min_date = dates.min()\n",
    "max_date = dates.max()\n",
    "number_of_days = (max_date - min_date).days\n",
    "average = len(wife_df) / number_of_days\n",
    "\n",
    "# Maak de grafiek\n",
    "plt.figure(figsize=(20, 10))\n",
    "ax = plt.gca()\n",
    "\n",
    "# Stapel de gegevens per Author in een bar chart\n",
    "# photos_percentage_per_man.plot(kind=\"bar\", stacked=True, ax=ax, figsize=(20, 10))\n",
    "# photos_percentage_per_wife.plot(kind=\"bar\", stacked=True, ax=ax, figsize=(20, 10))\n",
    "photos_percentage_per_month.plot(kind=\"bar\", stacked=True, ax=ax, figsize=(20, 10))\n",
    "\n",
    "\n",
    "# Titel en labels aanpassen\n",
    "ax.yaxis.set_major_formatter(plt.FuncFormatter(lambda x, _: f'{x:.0f}%'))\n",
    "plt.suptitle('\" Photoboom \"', size=30, fontweight='bold')\n",
    "plt.title('The percentage of photos increased drastically after the birth of our daughter', fontstyle='italic', pad=25)\n",
    "plt.xlabel(\"\")\n",
    "plt.xticks(rotation=0)\n",
    "\n",
    "# Voeg tekst toe onderaan de grafiek\n",
    "plt.figtext(0.1, 0.05, f'Gebaseerd op {wife_df.shape[0]:,}'.replace(',','.') + f' berichten tussen {min_date.strftime(\"%d-%m-%Y\")} en {max_date.strftime(\"%d-%m-%Y\")}.', fontsize=16)\n",
    "\n",
    "# Toon de grafiek\n",
    "plt.tight_layout()\n",
    "plt.show()\n",
    "\n",
    "# Print de statistieken\n",
    "print(number_of_days)\n",
    "print(average)\n"
   ]
  }
 ],
 "metadata": {
  "kernelspec": {
   "display_name": ".venv",
   "language": "python",
   "name": "python3"
  },
  "language_info": {
   "codemirror_mode": {
    "name": "ipython",
    "version": 3
   },
   "file_extension": ".py",
   "mimetype": "text/x-python",
   "name": "python",
   "nbconvert_exporter": "python",
   "pygments_lexer": "ipython3",
   "version": "3.12.8"
  }
 },
 "nbformat": 4,
 "nbformat_minor": 2
}
